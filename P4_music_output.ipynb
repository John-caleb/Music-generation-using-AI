{
 "cells": [
  {
   "cell_type": "code",
   "execution_count": 2,
   "id": "16aa7d42",
   "metadata": {},
   "outputs": [
    {
     "name": "stdout",
     "output_type": "stream",
     "text": [
      "Collecting musicalbeeps\n",
      "  Downloading musicalbeeps-0.2.9-py3-none-any.whl (6.3 kB)\n",
      "Requirement already satisfied: numpy in c:\\users\\caleb\\anaconda3\\lib\\site-packages (from musicalbeeps) (1.21.5)\n",
      "Collecting simpleaudio\n",
      "  Downloading simpleaudio-1.0.4.tar.gz (2.0 MB)\n",
      "Building wheels for collected packages: simpleaudio\n",
      "  Building wheel for simpleaudio (setup.py): started\n",
      "  Building wheel for simpleaudio (setup.py): finished with status 'done'\n",
      "  Created wheel for simpleaudio: filename=simpleaudio-1.0.4-cp39-cp39-win_amd64.whl size=2039116 sha256=ed9a58312008f2a8550cea7f89e8c1729b308c53bd97d08e8beb34d388f4728c\n",
      "  Stored in directory: c:\\users\\caleb\\appdata\\local\\pip\\cache\\wheels\\9e\\98\\21\\6774fbadaeb379c6823dacb09d41a7b5057d72f6f732897358\n",
      "Successfully built simpleaudio\n",
      "Installing collected packages: simpleaudio, musicalbeeps\n",
      "Successfully installed musicalbeeps-0.2.9 simpleaudio-1.0.4\n",
      "Note: you may need to restart the kernel to use updated packages.\n"
     ]
    }
   ],
   "source": [
    "#pip install musicalbeeps"
   ]
  },
  {
   "cell_type": "code",
   "execution_count": 10,
   "id": "8ff76442",
   "metadata": {},
   "outputs": [
    {
     "name": "stdout",
     "output_type": "stream",
     "text": [
      "Collecting scamp\n",
      "  Downloading scamp-0.9.1.post9-py3-none-any.whl (13.1 MB)\n",
      "Collecting midiutil\n",
      "  Downloading MIDIUtil-1.2.1.tar.gz (1.0 MB)\n",
      "Collecting clockblocks>=0.6.7\n",
      "  Downloading clockblocks-0.6.7-py3-none-any.whl (54 kB)\n",
      "Collecting expenvelope>=0.7.0\n",
      "  Downloading expenvelope-0.7.0-py3-none-any.whl (40 kB)\n",
      "Collecting python-osc\n",
      "  Downloading python_osc-1.8.3-py3-none-any.whl (33 kB)\n",
      "Collecting pymusicxml>=0.5.5\n",
      "  Downloading pymusicxml-0.5.5-py3-none-any.whl (47 kB)\n",
      "Collecting arpeggio\n",
      "  Downloading Arpeggio-2.0.2-py2.py3-none-any.whl (55 kB)\n",
      "Building wheels for collected packages: midiutil\n",
      "  Building wheel for midiutil (setup.py): started\n",
      "  Building wheel for midiutil (setup.py): finished with status 'done'\n",
      "  Created wheel for midiutil: filename=MIDIUtil-1.2.1-py3-none-any.whl size=55494 sha256=ae12437477a69fb91f58476da2adc151cd712e253b85fd744e06fb102c4f5723\n",
      "  Stored in directory: c:\\users\\caleb\\appdata\\local\\pip\\cache\\wheels\\52\\c2\\30\\ce4f23db030a863977bc328651b914261581717167aabfcd47\n",
      "Successfully built midiutil\n",
      "Installing collected packages: expenvelope, python-osc, pymusicxml, midiutil, clockblocks, arpeggio, scamp\n",
      "Successfully installed arpeggio-2.0.2 clockblocks-0.6.7 expenvelope-0.7.0 midiutil-1.2.1 pymusicxml-0.5.5 python-osc-1.8.3 scamp-0.9.1.post9\n",
      "Note: you may need to restart the kernel to use updated packages.\n"
     ]
    }
   ],
   "source": [
    "#pip install scamp"
   ]
  },
  {
   "cell_type": "code",
   "execution_count": 1,
   "id": "7b139a5d",
   "metadata": {},
   "outputs": [],
   "source": [
    "# import musicalbeeps\n",
    "\n",
    "\n",
    "# player = musicalbeeps.Player(volume = 0.3,\n",
    "#                             mute_output = False)"
   ]
  },
  {
   "cell_type": "code",
   "execution_count": 2,
   "id": "7df2e560",
   "metadata": {},
   "outputs": [
    {
     "name": "stdout",
     "output_type": "stream",
     "text": [
      "Playing C4 (261.63 Hz) for 0.5s\n",
      "Playing A3 (220.00 Hz) for 0.5s\n",
      "Playing C4 (261.63 Hz) for 0.5s\n",
      "Playing F4 (349.23 Hz) for 0.5s\n",
      "Playing C4 (261.63 Hz) for 0.5s\n",
      "Playing G4 (392.00 Hz) for 0.5s\n",
      "Playing F4 (349.23 Hz) for 0.5s\n",
      "Playing F4 (349.23 Hz) for 0.5s\n",
      "Playing F4 (349.23 Hz) for 0.5s\n",
      "Playing F4 (349.23 Hz) for 0.5s\n",
      "Playing F4 (349.23 Hz) for 0.5s\n",
      "Playing A4 (440.00 Hz) for 0.5s\n",
      "Playing B4 (493.88 Hz) for 0.5s\n",
      "Playing F4 (349.23 Hz) for 0.5s\n",
      "Playing F4 (349.23 Hz) for 0.5s\n",
      "Playing F4 (349.23 Hz) for 0.5s\n",
      "Playing B4 (493.88 Hz) for 0.5s\n",
      "Playing C5 (523.25 Hz) for 0.5s\n"
     ]
    }
   ],
   "source": [
    "notes = ['C4', 'A3', 'C4', 'F4', 'C4', 'G4', 'F4', 'F4', 'F4', 'F4', 'F4', 'A4', 'B4', 'F4', 'F4', 'F4', 'B4', 'C5']\n",
    "# for i in range(len(notes)):\n",
    "#     player.play_note(notes[i])"
   ]
  },
  {
   "cell_type": "code",
   "execution_count": null,
   "id": "46e026de",
   "metadata": {},
   "outputs": [],
   "source": []
  },
  {
   "cell_type": "code",
   "execution_count": null,
   "id": "c3b3a384",
   "metadata": {},
   "outputs": [],
   "source": []
  },
  {
   "cell_type": "code",
   "execution_count": 6,
   "id": "1988fc47",
   "metadata": {},
   "outputs": [
    {
     "name": "stderr",
     "output_type": "stream",
     "text": [
      "WARNING:root:python-rtmidi was not found; streaming midi input / output will not be available.\n",
      "WARNING:root:pynput was not found; mouse and keyboard input will not be available.\n"
     ]
    }
   ],
   "source": [
    "from scamp import *\n",
    "import numpy as np\n",
    "import random"
   ]
  },
  {
   "cell_type": "code",
   "execution_count": 7,
   "id": "152793e2",
   "metadata": {},
   "outputs": [
    {
     "name": "stdout",
     "output_type": "stream",
     "text": [
      "Using preset Piano Merlin for Piano\n"
     ]
    }
   ],
   "source": [
    "# session = Session()\n",
    "# piano1 = session.new_part(\"Piano\")\n",
    "# pitches = [64, 66, 71, 73, 74, 66, 64]\n",
    "# for pitch in pitches:\n",
    "#     piano1.play_note(pitch, 1.0, 0.25)"
   ]
  },
  {
   "cell_type": "code",
   "execution_count": 5,
   "id": "e3a551cd",
   "metadata": {},
   "outputs": [],
   "source": [
    "notes = ['C4', 'C4', 'D4', 'D4', 'E4', 'E4', 'C4', 'C4', 'D4', 'D4', 'E4', 'E4', 'C4', 'C4', 'D4', 'D4', 'E4', 'E4', 'C4', 'F4', 'A4', 'A4', 'G4', 'G4', 'C5', 'C5', 'A4', 'A4', 'F4', 'F4', 'C5', 'C5', 'B4', 'B4', 'G4', 'G4', 'C5', 'C5', 'A4', 'A4', 'F4', 'F4', 'D5', 'D5', 'C5', 'D5']\n",
    "\n",
    "def play_piano(notes):\n",
    "    name = [\"C0\",\"C#0\",\"D0\",\"D#0\",\"E0\",\"F0\",\"F#0\",\"G0\",\"G#0\",\"A0\",\"A#0\",\"B0\",\n",
    "            \"C1\",\"C#1\",\"D1\",\"D#1\",\"E1\",\"F1\",\"F#1\",\"G1\",\"G#1\",\"A1\",\"A#1\",\"B1\",\n",
    "            \"C2\",\"C#2\",\"D2\",\"D#2\",\"E2\",\"F2\",\"F#2\",\"G2\",\"G#2\",\"A2\",\"A#2\",\"B2\",\n",
    "            \"C3\",\"C#3\",\"D3\",\"D#3\",\"E3\",\"F3\",\"F#3\",\"G3\",\"G#3\",\"A3\",\"A#3\",\"B3\",  \n",
    "            \"C4\",\"C#4\",\"D4\",\"D#4\",\"E4\",\"F4\",\"F#4\",\"G4\",\"G#4\",\"A4\",\"A#4\",\"B4\",\n",
    "            \"C5\",\"C#5\",\"D5\",\"D#5\",\"E5\",\"F5\",\"F#5\",\"G5\",\"G#5\",\"A5\",\"A#5\",\"B5\",\n",
    "            \"C6\",\"C#6\",\"D6\",\"D#6\",\"E6\",\"F6\",\"F#6\",\"G6\",\"G#6\",\"A6\",\"A#6\",\"B6\",\n",
    "            \"C7\",\"C#7\",\"D7\",\"D#7\",\"E7\",\"F7\",\"F#7\",\"G7\",\"G#7\",\"A7\",\"A#7\",\"B7\",\n",
    "            \"C8\",\"C#8\",\"D8\",\"D#8\",\"E8\",\"F8\",\"F#8\",\"G8\",\"G#8\",\"A8\",\"A#8\",\"B8\",\"C9+\"]\n",
    "    pitches = []\n",
    "    for i in range(len(notes)):\n",
    "        pitches.append(name.index(notes[i]))\n",
    "    session = Session()\n",
    "    piano1 = session.new_part(\"Piano\")\n",
    "    for pitch in pitches:\n",
    "        piano1.play_note(pitch, 1.0, 0.5)"
   ]
  },
  {
   "cell_type": "code",
   "execution_count": 4,
   "id": "be4b8469",
   "metadata": {},
   "outputs": [],
   "source": [
    "def marked_output(op):\n",
    "    piano_notes = [\"C0\",\"C#0\",\"D0\",\"D#0\",\"E0\",\"F0\",\"F#0\",\"G0\",\"G#0\",\"A0\",\"A#0\",\"B0\",\n",
    "                   \"C1\",\"C#1\",\"D1\",\"D#1\",\"E1\",\"F1\",\"F#1\",\"G1\",\"G#1\",\"A1\",\"A#1\",\"B1\",\n",
    "                   \"C2\",\"C#2\",\"D2\",\"D#2\",\"E2\",\"F2\",\"F#2\",\"G2\",\"G#2\",\"A2\",\"A#2\",\"B2\",\n",
    "                   \"C3\",\"C#3\",\"D3\",\"D#3\",\"E3\",\"F3\",\"F#3\",\"G3\",\"G#3\",\"A3\",\"A#3\",\"B3\",  \n",
    "                   \"C4\",\"C#4\",\"D4\",\"D#4\",\"E4\",\"F4\",\"F#4\",\"G4\",\"G#4\",\"A4\",\"A#4\",\"B4\",\n",
    "                   \"C5\",\"C#5\",\"D5\",\"D#5\",\"E5\",\"F5\",\"F#5\",\"G5\",\"G#5\",\"A5\",\"A#5\",\"B5\",\n",
    "                   \"C6\",\"C#6\",\"D6\",\"D#6\",\"E6\",\"F6\",\"F#6\",\"G6\",\"G#6\",\"A6\",\"A#6\",\"B6\",\n",
    "                   \"C7\",\"C#7\",\"D7\",\"D#7\",\"E7\",\"F7\",\"F#7\",\"G7\",\"G#7\",\"A7\",\"A#7\",\"B7\",\n",
    "                   \"C8\",\"C#8\",\"D8\",\"D#8\",\"E8\",\"F8\",\"F#8\",\"G8\",\"G#8\",\"A8\",\"A#8\",\"B8\",\"C9+\"]\n",
    "    marked_op = [op[0]+'5']\n",
    "    for i in range(1, len(op)):\n",
    "        x = int(marked_op[i-1][-1])\n",
    "        temp = [op[i]+str(x-1), op[i]+str(x), op[i]+str(x+1)]\n",
    "        ind = piano_notes.index(marked_op[i-1])\n",
    "        temp_dis = []\n",
    "        for j in range(3):\n",
    "            temp_dis.append(abs(ind - piano_notes.index(temp[j])))\n",
    "        mindis = temp_dis.index(min(temp_dis))\n",
    "        marked_op.append(temp[mindis])\n",
    "    return marked_op\n",
    "    \n",
    "\n",
    "op = ['C', 'A', 'C', 'C', 'F', 'D', 'F', 'F', 'F', 'B', 'A', 'B', 'A', 'B', 'F']\n",
    "#marked_op = marked_output(op)\n",
    "#print(marked_op)"
   ]
  },
  {
   "cell_type": "code",
   "execution_count": 19,
   "id": "067cb734",
   "metadata": {},
   "outputs": [
    {
     "name": "stdout",
     "output_type": "stream",
     "text": [
      "Using preset Piano Merlin for Piano\n"
     ]
    }
   ],
   "source": [
    "# pitches = []\n",
    "# for i in range(len(marked_op)):\n",
    "#     pitches.append(name.index(marked_op[i]))\n",
    "    \n",
    "# session = Session()\n",
    "# piano1 = session.new_part(\"Piano\")\n",
    "\n",
    "# for pitch in pitches:\n",
    "#     piano1.play_note(pitch, 1.0, 0.5)"
   ]
  },
  {
   "cell_type": "code",
   "execution_count": null,
   "id": "ab7810c9",
   "metadata": {},
   "outputs": [],
   "source": []
  },
  {
   "cell_type": "code",
   "execution_count": 22,
   "id": "67c9457c",
   "metadata": {},
   "outputs": [
    {
     "name": "stdout",
     "output_type": "stream",
     "text": [
      "Using preset Acoustic Bass for Acoustic Guitar\n"
     ]
    }
   ],
   "source": [
    "# def build_chord(interval_options,\n",
    "#                 num_notes,\n",
    "#                 pitch_center,\n",
    "#                 round_transposition=True):\n",
    "    \n",
    "#     chord = [0]\n",
    "#     while len(chord) < num_notes:\n",
    "#         chord.append(chord[-1] + random.choice(interval_options))\n",
    "    \n",
    "#     transposition = pitch_center - sum(chord) / len(chord)\n",
    "#     if round_transposition:\n",
    "#         transposition = round(transposition)\n",
    "#     return [p + transposition for p in chord]\n",
    "\n",
    "\n",
    "# s = Session()\n",
    "\n",
    "# organ = s.new_part(\"Acoustic Guitar\")\n",
    "\n",
    "\n",
    "# for i in range(5):\n",
    "#     organ.play_chord(\n",
    "#         build_chord([2, 5, 7], random.randint(2, 10), random.randint(40, 80)),\n",
    "#         0.8,\n",
    "#         0.5,\n",
    "#         \"staccato\" if random.random() < 0.5 else None\n",
    "#     )"
   ]
  },
  {
   "cell_type": "code",
   "execution_count": null,
   "id": "c09d9820",
   "metadata": {},
   "outputs": [],
   "source": []
  }
 ],
 "metadata": {
  "kernelspec": {
   "display_name": "Python 3 (ipykernel)",
   "language": "python",
   "name": "python3"
  },
  "language_info": {
   "codemirror_mode": {
    "name": "ipython",
    "version": 3
   },
   "file_extension": ".py",
   "mimetype": "text/x-python",
   "name": "python",
   "nbconvert_exporter": "python",
   "pygments_lexer": "ipython3",
   "version": "3.9.12"
  }
 },
 "nbformat": 4,
 "nbformat_minor": 5
}
