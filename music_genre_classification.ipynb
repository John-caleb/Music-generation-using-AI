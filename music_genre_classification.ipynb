{
 "cells": [
  {
   "cell_type": "code",
   "execution_count": 1,
   "metadata": {
    "_cell_guid": "b1076dfc-b9ad-4769-8c92-a6c4dae69d19",
    "_uuid": "8f2839f25d086af736a60e9eeb907d3b93b6e0e5",
    "execution": {
     "iopub.execute_input": "2023-03-10T05:04:40.294698Z",
     "iopub.status.busy": "2023-03-10T05:04:40.294264Z",
     "iopub.status.idle": "2023-03-10T05:04:40.326993Z",
     "shell.execute_reply": "2023-03-10T05:04:40.325865Z",
     "shell.execute_reply.started": "2023-03-10T05:04:40.294655Z"
    }
   },
   "outputs": [],
   "source": [
    "import numpy as np\n",
    "import pandas as pd \n",
    "import matplotlib.pyplot as plt"
   ]
  },
  {
   "cell_type": "code",
   "execution_count": 3,
   "metadata": {
    "execution": {
     "iopub.execute_input": "2023-03-10T05:04:40.336451Z",
     "iopub.status.busy": "2023-03-10T05:04:40.336037Z",
     "iopub.status.idle": "2023-03-10T05:04:41.086842Z",
     "shell.execute_reply": "2023-03-10T05:04:41.085665Z",
     "shell.execute_reply.started": "2023-03-10T05:04:40.336407Z"
    }
   },
   "outputs": [],
   "source": [
    "data_path = \"Data/features_3_sec.csv\"\n",
    "df_main = pd.read_csv(data_path)"
   ]
  },
  {
   "cell_type": "code",
   "execution_count": 4,
   "metadata": {
    "execution": {
     "iopub.execute_input": "2023-03-10T05:04:41.089581Z",
     "iopub.status.busy": "2023-03-10T05:04:41.088415Z",
     "iopub.status.idle": "2023-03-10T05:04:41.105955Z",
     "shell.execute_reply": "2023-03-10T05:04:41.104918Z",
     "shell.execute_reply.started": "2023-03-10T05:04:41.089533Z"
    }
   },
   "outputs": [],
   "source": [
    "df_main.shape\n",
    "X = df_main.drop('label',axis=1)\n",
    "y = df_main['label']"
   ]
  },
  {
   "cell_type": "code",
   "execution_count": 5,
   "metadata": {
    "collapsed": true,
    "execution": {
     "iopub.execute_input": "2023-03-10T05:04:41.111347Z",
     "iopub.status.busy": "2023-03-10T05:04:41.110119Z",
     "iopub.status.idle": "2023-03-10T05:04:44.233523Z",
     "shell.execute_reply": "2023-03-10T05:04:44.232432Z",
     "shell.execute_reply.started": "2023-03-10T05:04:41.111209Z"
    }
   },
   "outputs": [
    {
     "name": "stderr",
     "output_type": "stream",
     "text": [
      "C:\\Users\\caleb\\AppData\\Local\\Temp\\ipykernel_9128\\4226296203.py:16: SettingWithCopyWarning: \n",
      "A value is trying to be set on a copy of a slice from a DataFrame\n",
      "\n",
      "See the caveats in the documentation: https://pandas.pydata.org/pandas-docs/stable/user_guide/indexing.html#returning-a-view-versus-a-copy\n",
      "  y[i] = genre_map[y[i]]\n"
     ]
    }
   ],
   "source": [
    "#encoding the labels for future referencing\n",
    "index_map = ['blues','classical','country','disco','hiphop','jazz','metal','pop','reggae','rock']\n",
    "genre_map = {'blues':0,\n",
    "             'classical':1,\n",
    "            'country': 2,\n",
    "            'disco': 3,\n",
    "            'hiphop':4,\n",
    "            'jazz':5,\n",
    "            'metal':6,\n",
    "            'pop':7,\n",
    "            'reggae':8,\n",
    "            'rock':9}\n",
    "\n",
    "for i in range(len(y)):\n",
    "    y[i] = genre_map[y[i]]\n",
    "    \n",
    "y = y.astype(int)"
   ]
  },
  {
   "cell_type": "code",
   "execution_count": 6,
   "metadata": {
    "execution": {
     "iopub.execute_input": "2023-03-10T05:04:44.235428Z",
     "iopub.status.busy": "2023-03-10T05:04:44.235109Z",
     "iopub.status.idle": "2023-03-10T05:04:44.247207Z",
     "shell.execute_reply": "2023-03-10T05:04:44.246054Z",
     "shell.execute_reply.started": "2023-03-10T05:04:44.235398Z"
    }
   },
   "outputs": [
    {
     "data": {
      "text/plain": [
       "(9990, 53)"
      ]
     },
     "execution_count": 6,
     "metadata": {},
     "output_type": "execute_result"
    }
   ],
   "source": [
    "X = X.drop(['filename','length','harmony_mean','harmony_var','perceptr_mean','perceptr_var'],axis = 1)\n",
    "X.shape"
   ]
  },
  {
   "cell_type": "markdown",
   "metadata": {},
   "source": [
    "# Train Test Split"
   ]
  },
  {
   "cell_type": "code",
   "execution_count": 7,
   "metadata": {
    "execution": {
     "iopub.execute_input": "2023-03-10T05:04:44.249706Z",
     "iopub.status.busy": "2023-03-10T05:04:44.249233Z",
     "iopub.status.idle": "2023-03-10T05:04:44.762913Z",
     "shell.execute_reply": "2023-03-10T05:04:44.761778Z",
     "shell.execute_reply.started": "2023-03-10T05:04:44.249663Z"
    }
   },
   "outputs": [
    {
     "name": "stdout",
     "output_type": "stream",
     "text": [
      "(8491, 53)\n",
      "(750, 53)\n"
     ]
    }
   ],
   "source": [
    "from sklearn.model_selection import train_test_split\n",
    "X_train, X_rem, y_train, y_rem = train_test_split(X,y,stratify = y, test_size = 0.15)\n",
    "X_test, X_val, y_test, y_val = train_test_split(X_rem, y_rem , stratify = y_rem , test_size = 0.5)\n",
    "print(X_train.shape )\n",
    "print(X_val.shape)"
   ]
  },
  {
   "cell_type": "code",
   "execution_count": 8,
   "metadata": {
    "execution": {
     "iopub.execute_input": "2023-03-10T05:04:44.765587Z",
     "iopub.status.busy": "2023-03-10T05:04:44.765090Z",
     "iopub.status.idle": "2023-03-10T05:04:44.792260Z",
     "shell.execute_reply": "2023-03-10T05:04:44.791040Z",
     "shell.execute_reply.started": "2023-03-10T05:04:44.765539Z"
    }
   },
   "outputs": [],
   "source": [
    "from sklearn.preprocessing import StandardScaler\n",
    "sc = StandardScaler()\n",
    "sc.fit(X_train)\n",
    "X_train = sc.transform(X_train)\n",
    "X_test = sc.transform(X_test)\n",
    "X_val = sc.transform(X_val)"
   ]
  },
  {
   "cell_type": "markdown",
   "metadata": {},
   "source": [
    "# SVM Classifier"
   ]
  },
  {
   "cell_type": "code",
   "execution_count": 9,
   "metadata": {
    "execution": {
     "iopub.execute_input": "2023-03-10T05:04:44.793955Z",
     "iopub.status.busy": "2023-03-10T05:04:44.793617Z",
     "iopub.status.idle": "2023-03-10T05:04:47.688735Z",
     "shell.execute_reply": "2023-03-10T05:04:47.687524Z",
     "shell.execute_reply.started": "2023-03-10T05:04:44.793923Z"
    }
   },
   "outputs": [
    {
     "data": {
      "text/html": [
       "<style>#sk-container-id-1 {color: black;background-color: white;}#sk-container-id-1 pre{padding: 0;}#sk-container-id-1 div.sk-toggleable {background-color: white;}#sk-container-id-1 label.sk-toggleable__label {cursor: pointer;display: block;width: 100%;margin-bottom: 0;padding: 0.3em;box-sizing: border-box;text-align: center;}#sk-container-id-1 label.sk-toggleable__label-arrow:before {content: \"▸\";float: left;margin-right: 0.25em;color: #696969;}#sk-container-id-1 label.sk-toggleable__label-arrow:hover:before {color: black;}#sk-container-id-1 div.sk-estimator:hover label.sk-toggleable__label-arrow:before {color: black;}#sk-container-id-1 div.sk-toggleable__content {max-height: 0;max-width: 0;overflow: hidden;text-align: left;background-color: #f0f8ff;}#sk-container-id-1 div.sk-toggleable__content pre {margin: 0.2em;color: black;border-radius: 0.25em;background-color: #f0f8ff;}#sk-container-id-1 input.sk-toggleable__control:checked~div.sk-toggleable__content {max-height: 200px;max-width: 100%;overflow: auto;}#sk-container-id-1 input.sk-toggleable__control:checked~label.sk-toggleable__label-arrow:before {content: \"▾\";}#sk-container-id-1 div.sk-estimator input.sk-toggleable__control:checked~label.sk-toggleable__label {background-color: #d4ebff;}#sk-container-id-1 div.sk-label input.sk-toggleable__control:checked~label.sk-toggleable__label {background-color: #d4ebff;}#sk-container-id-1 input.sk-hidden--visually {border: 0;clip: rect(1px 1px 1px 1px);clip: rect(1px, 1px, 1px, 1px);height: 1px;margin: -1px;overflow: hidden;padding: 0;position: absolute;width: 1px;}#sk-container-id-1 div.sk-estimator {font-family: monospace;background-color: #f0f8ff;border: 1px dotted black;border-radius: 0.25em;box-sizing: border-box;margin-bottom: 0.5em;}#sk-container-id-1 div.sk-estimator:hover {background-color: #d4ebff;}#sk-container-id-1 div.sk-parallel-item::after {content: \"\";width: 100%;border-bottom: 1px solid gray;flex-grow: 1;}#sk-container-id-1 div.sk-label:hover label.sk-toggleable__label {background-color: #d4ebff;}#sk-container-id-1 div.sk-serial::before {content: \"\";position: absolute;border-left: 1px solid gray;box-sizing: border-box;top: 0;bottom: 0;left: 50%;z-index: 0;}#sk-container-id-1 div.sk-serial {display: flex;flex-direction: column;align-items: center;background-color: white;padding-right: 0.2em;padding-left: 0.2em;position: relative;}#sk-container-id-1 div.sk-item {position: relative;z-index: 1;}#sk-container-id-1 div.sk-parallel {display: flex;align-items: stretch;justify-content: center;background-color: white;position: relative;}#sk-container-id-1 div.sk-item::before, #sk-container-id-1 div.sk-parallel-item::before {content: \"\";position: absolute;border-left: 1px solid gray;box-sizing: border-box;top: 0;bottom: 0;left: 50%;z-index: -1;}#sk-container-id-1 div.sk-parallel-item {display: flex;flex-direction: column;z-index: 1;position: relative;background-color: white;}#sk-container-id-1 div.sk-parallel-item:first-child::after {align-self: flex-end;width: 50%;}#sk-container-id-1 div.sk-parallel-item:last-child::after {align-self: flex-start;width: 50%;}#sk-container-id-1 div.sk-parallel-item:only-child::after {width: 0;}#sk-container-id-1 div.sk-dashed-wrapped {border: 1px dashed gray;margin: 0 0.4em 0.5em 0.4em;box-sizing: border-box;padding-bottom: 0.4em;background-color: white;}#sk-container-id-1 div.sk-label label {font-family: monospace;font-weight: bold;display: inline-block;line-height: 1.2em;}#sk-container-id-1 div.sk-label-container {text-align: center;}#sk-container-id-1 div.sk-container {/* jupyter's `normalize.less` sets `[hidden] { display: none; }` but bootstrap.min.css set `[hidden] { display: none !important; }` so we also need the `!important` here to be able to override the default hidden behavior on the sphinx rendered scikit-learn.org. See: https://github.com/scikit-learn/scikit-learn/issues/21755 */display: inline-block !important;position: relative;}#sk-container-id-1 div.sk-text-repr-fallback {display: none;}</style><div id=\"sk-container-id-1\" class=\"sk-top-container\"><div class=\"sk-text-repr-fallback\"><pre>SVC(C=0.1, gamma=1, kernel=&#x27;poly&#x27;)</pre><b>In a Jupyter environment, please rerun this cell to show the HTML representation or trust the notebook. <br />On GitHub, the HTML representation is unable to render, please try loading this page with nbviewer.org.</b></div><div class=\"sk-container\" hidden><div class=\"sk-item\"><div class=\"sk-estimator sk-toggleable\"><input class=\"sk-toggleable__control sk-hidden--visually\" id=\"sk-estimator-id-1\" type=\"checkbox\" checked><label for=\"sk-estimator-id-1\" class=\"sk-toggleable__label sk-toggleable__label-arrow\">SVC</label><div class=\"sk-toggleable__content\"><pre>SVC(C=0.1, gamma=1, kernel=&#x27;poly&#x27;)</pre></div></div></div></div></div>"
      ],
      "text/plain": [
       "SVC(C=0.1, gamma=1, kernel='poly')"
      ]
     },
     "execution_count": 9,
     "metadata": {},
     "output_type": "execute_result"
    }
   ],
   "source": [
    "from sklearn.svm import SVC\n",
    "SVM_classifier = SVC(kernel = 'poly',C =0.1,gamma = 1)\n",
    "SVM_classifier.fit(X_train,y_train)"
   ]
  },
  {
   "cell_type": "code",
   "execution_count": 10,
   "metadata": {
    "execution": {
     "iopub.execute_input": "2023-03-10T05:04:47.690745Z",
     "iopub.status.busy": "2023-03-10T05:04:47.690372Z",
     "iopub.status.idle": "2023-03-10T05:04:47.925245Z",
     "shell.execute_reply": "2023-03-10T05:04:47.923958Z",
     "shell.execute_reply.started": "2023-03-10T05:04:47.690713Z"
    }
   },
   "outputs": [
    {
     "data": {
      "text/plain": [
       "array([6, 9, 1, 7, 3, 8, 4, 0, 4, 4, 4, 0, 2, 5, 7, 1, 4, 9, 6, 7, 3, 9,\n",
       "       3, 0, 7, 2, 9, 3, 7, 1, 2, 7, 9, 7, 8, 5, 2, 2, 3, 6, 1, 3, 3, 9,\n",
       "       5, 4, 7, 5, 8, 9, 1, 7, 0, 4, 5, 3, 7, 8, 0, 0, 7, 4, 9, 0, 0, 9,\n",
       "       8, 3, 0, 2, 8, 7, 6, 5, 9, 8, 0, 4, 6, 3, 6, 0, 5, 2, 3, 4, 7, 2,\n",
       "       5, 9, 7, 8, 6, 7, 8, 3, 8, 0, 8, 4, 6, 5, 4, 1, 0, 5, 5, 8, 0, 1,\n",
       "       3, 0, 5, 6, 6, 7, 0, 0, 4, 9, 6, 9, 3, 2, 5, 7, 2, 4, 0, 8, 5, 7,\n",
       "       6, 9, 2, 5, 4, 0, 3, 4, 2, 3, 6, 9, 6, 5, 4, 5, 1, 1, 0, 5, 4, 8,\n",
       "       8, 0, 0, 0, 4, 4, 2, 6, 5, 6, 0, 6, 3, 4, 2, 8, 5, 9, 6, 2, 8, 2,\n",
       "       7, 1, 2, 2, 3, 8, 8, 8, 9, 1, 0, 7, 9, 1, 2, 3, 0, 6, 5, 3, 8, 1,\n",
       "       7, 6, 5, 3, 5, 5, 3, 1, 1, 1, 7, 8, 7, 8, 9, 2, 5, 5, 1, 1, 0, 4,\n",
       "       5, 1, 2, 5, 2, 6, 8, 6, 4, 2, 1, 6, 7, 7, 2, 9, 0, 4, 4, 7, 0, 3,\n",
       "       9, 2, 3, 1, 6, 7, 8, 6, 9, 6, 0, 2, 2, 0, 7, 2, 2, 6, 4, 6, 1, 8,\n",
       "       3, 1, 2, 5, 3, 3, 4, 4, 6, 0, 4, 7, 3, 1, 9, 4, 4, 5, 4, 2, 3, 9,\n",
       "       8, 3, 1, 8, 4, 7, 9, 7, 7, 6, 0, 8, 3, 0, 8, 4, 9, 0, 2, 5, 1, 9,\n",
       "       7, 8, 6, 4, 4, 9, 6, 6, 3, 7, 3, 5, 2, 0, 3, 8, 6, 2, 9, 5, 5, 7,\n",
       "       4, 9, 3, 0, 9, 3, 6, 7, 9, 1, 7, 6, 6, 7, 6, 0, 3, 9, 8, 4, 6, 5,\n",
       "       0, 4, 8, 7, 0, 6, 1, 0, 1, 3, 7, 9, 5, 8, 7, 7, 7, 6, 8, 0, 0, 4,\n",
       "       0, 3, 1, 0, 3, 4, 7, 5, 7, 0, 7, 1, 3, 2, 3, 5, 2, 3, 5, 4, 5, 2,\n",
       "       2, 0, 1, 4, 8, 1, 8, 8, 1, 4, 3, 8, 1, 0, 9, 5, 2, 2, 2, 2, 5, 2,\n",
       "       1, 4, 8, 1, 6, 5, 5, 3, 9, 0, 0, 8, 6, 4, 2, 3, 2, 9, 8, 3, 1, 6,\n",
       "       1, 5, 6, 4, 9, 3, 2, 6, 9, 3, 4, 2, 4, 2, 1, 3, 3, 2, 8, 9, 0, 1,\n",
       "       0, 0, 2, 5, 3, 1, 7, 6, 9, 5, 7, 7, 3, 4, 9, 8, 2, 9, 8, 6, 5, 9,\n",
       "       0, 1, 5, 9, 9, 8, 4, 8, 5, 1, 8, 6, 7, 5, 5, 6, 7, 2, 1, 0, 8, 1,\n",
       "       1, 3, 9, 3, 7, 2, 1, 8, 0, 3, 8, 7, 1, 6, 6, 0, 9, 0, 5, 7, 0, 2,\n",
       "       7, 7, 3, 6, 7, 8, 4, 0, 1, 4, 9, 8, 6, 1, 6, 8, 0, 3, 0, 2, 6, 5,\n",
       "       4, 1, 1, 8, 2, 7, 5, 7, 7, 1, 3, 8, 2, 4, 3, 1, 6, 8, 5, 2, 5, 7,\n",
       "       1, 5, 4, 4, 3, 3, 2, 9, 2, 5, 0, 7, 9, 4, 8, 0, 3, 4, 7, 2, 3, 0,\n",
       "       2, 2, 0, 8, 0, 3, 1, 3, 7, 7, 6, 1, 9, 9, 2, 9, 2, 0, 5, 5, 0, 2,\n",
       "       1, 1, 3, 4, 0, 0, 3, 0, 6, 0, 4, 8, 5, 3, 1, 3, 5, 8, 7, 6, 5, 9,\n",
       "       1, 7, 4, 4, 0, 5, 7, 5, 2, 3, 9, 9, 1, 4, 1, 9, 6, 2, 9, 0, 2, 5,\n",
       "       2, 2, 8, 3, 4, 1, 2, 0, 0, 1, 1, 4, 4, 3, 8, 9, 3, 0, 9, 3, 6, 0,\n",
       "       6, 2, 1, 6, 6, 7, 0, 8, 4, 4, 8, 8, 2, 6, 0, 2, 9, 3, 7, 8, 3, 0,\n",
       "       6, 8, 3, 9, 6, 1, 6, 3, 3, 2, 4, 9, 9, 2, 8, 8, 4, 8, 5, 2, 1, 9,\n",
       "       8, 1, 7, 8, 5, 9, 3, 7, 5, 5, 7, 4, 8, 4, 7, 3, 5, 9, 6, 3, 2, 3,\n",
       "       3, 8])"
      ]
     },
     "execution_count": 10,
     "metadata": {},
     "output_type": "execute_result"
    }
   ],
   "source": [
    "y_pred = SVM_classifier.predict(X_val)\n",
    "y_pred"
   ]
  },
  {
   "cell_type": "code",
   "execution_count": 11,
   "metadata": {
    "execution": {
     "iopub.execute_input": "2023-03-10T05:04:47.927222Z",
     "iopub.status.busy": "2023-03-10T05:04:47.926910Z",
     "iopub.status.idle": "2023-03-10T05:04:47.939241Z",
     "shell.execute_reply": "2023-03-10T05:04:47.937887Z",
     "shell.execute_reply.started": "2023-03-10T05:04:47.927194Z"
    }
   },
   "outputs": [
    {
     "name": "stdout",
     "output_type": "stream",
     "text": [
      "accuracy score:  0.8533333333333334\n",
      "f1_score :  0.8533333333333335\n"
     ]
    }
   ],
   "source": [
    "from sklearn.metrics import confusion_matrix,f1_score,accuracy_score\n",
    "cm = confusion_matrix(y_val,y_pred)\n",
    "print(cm)\n",
    "print('accuracy score: ', accuracy_score(y_val,y_pred))\n",
    "print('f1_score : ', f1_score(y_val,y_pred,average='micro'))"
   ]
  },
  {
   "cell_type": "markdown",
   "metadata": {},
   "source": [
    "# GridSearchCV"
   ]
  },
  {
   "cell_type": "code",
   "execution_count": 12,
   "metadata": {
    "execution": {
     "iopub.execute_input": "2023-03-10T05:04:47.940907Z",
     "iopub.status.busy": "2023-03-10T05:04:47.940544Z",
     "iopub.status.idle": "2023-03-10T05:09:43.841673Z",
     "shell.execute_reply": "2023-03-10T05:09:43.840625Z",
     "shell.execute_reply.started": "2023-03-10T05:04:47.940860Z"
    },
    "scrolled": true
   },
   "outputs": [
    {
     "name": "stdout",
     "output_type": "stream",
     "text": [
      "Fitting 5 folds for each of 12 candidates, totalling 60 fits\n",
      "[CV 1/5] END ........C=0.1, gamma=1, kernel=rbf;, score=0.141 total time=  14.9s\n",
      "[CV 2/5] END ........C=0.1, gamma=1, kernel=rbf;, score=0.181 total time=  14.8s\n",
      "[CV 3/5] END ........C=0.1, gamma=1, kernel=rbf;, score=0.143 total time=  14.7s\n",
      "[CV 4/5] END ........C=0.1, gamma=1, kernel=rbf;, score=0.157 total time=  14.7s\n",
      "[CV 5/5] END ........C=0.1, gamma=1, kernel=rbf;, score=0.164 total time=  14.5s\n",
      "[CV 1/5] END .......C=0.1, gamma=1, kernel=poly;, score=0.865 total time=   3.7s\n",
      "[CV 2/5] END .......C=0.1, gamma=1, kernel=poly;, score=0.872 total time=   3.9s\n",
      "[CV 3/5] END .......C=0.1, gamma=1, kernel=poly;, score=0.859 total time=   3.9s\n",
      "[CV 4/5] END .......C=0.1, gamma=1, kernel=poly;, score=0.879 total time=   3.9s\n",
      "[CV 5/5] END .......C=0.1, gamma=1, kernel=poly;, score=0.863 total time=   3.9s\n",
      "[CV 1/5] END ......C=0.1, gamma=0.1, kernel=rbf;, score=0.465 total time=  12.9s\n",
      "[CV 2/5] END ......C=0.1, gamma=0.1, kernel=rbf;, score=0.465 total time=  13.2s\n",
      "[CV 3/5] END ......C=0.1, gamma=0.1, kernel=rbf;, score=0.453 total time=  13.2s\n",
      "[CV 4/5] END ......C=0.1, gamma=0.1, kernel=rbf;, score=0.471 total time=  13.1s\n",
      "[CV 5/5] END ......C=0.1, gamma=0.1, kernel=rbf;, score=0.467 total time=  12.8s\n",
      "[CV 1/5] END .....C=0.1, gamma=0.1, kernel=poly;, score=0.859 total time=   3.7s\n",
      "[CV 2/5] END .....C=0.1, gamma=0.1, kernel=poly;, score=0.878 total time=   3.8s\n",
      "[CV 3/5] END .....C=0.1, gamma=0.1, kernel=poly;, score=0.866 total time=   3.7s\n",
      "[CV 4/5] END .....C=0.1, gamma=0.1, kernel=poly;, score=0.878 total time=   3.6s\n",
      "[CV 5/5] END .....C=0.1, gamma=0.1, kernel=poly;, score=0.865 total time=   3.8s\n",
      "[CV 1/5] END ..........C=1, gamma=1, kernel=rbf;, score=0.262 total time=  16.1s\n",
      "[CV 2/5] END ..........C=1, gamma=1, kernel=rbf;, score=0.258 total time=  16.1s\n",
      "[CV 3/5] END ..........C=1, gamma=1, kernel=rbf;, score=0.239 total time=  15.9s\n",
      "[CV 4/5] END ..........C=1, gamma=1, kernel=rbf;, score=0.259 total time=  15.8s\n",
      "[CV 5/5] END ..........C=1, gamma=1, kernel=rbf;, score=0.269 total time=  15.5s\n",
      "[CV 1/5] END .........C=1, gamma=1, kernel=poly;, score=0.865 total time=   3.6s\n",
      "[CV 2/5] END .........C=1, gamma=1, kernel=poly;, score=0.872 total time=   3.5s\n",
      "[CV 3/5] END .........C=1, gamma=1, kernel=poly;, score=0.859 total time=   3.7s\n",
      "[CV 4/5] END .........C=1, gamma=1, kernel=poly;, score=0.879 total time=   4.2s\n",
      "[CV 5/5] END .........C=1, gamma=1, kernel=poly;, score=0.863 total time=   3.9s\n",
      "[CV 1/5] END ........C=1, gamma=0.1, kernel=rbf;, score=0.818 total time=  14.1s\n",
      "[CV 2/5] END ........C=1, gamma=0.1, kernel=rbf;, score=0.829 total time=  14.1s\n",
      "[CV 3/5] END ........C=1, gamma=0.1, kernel=rbf;, score=0.823 total time=  13.7s\n",
      "[CV 4/5] END ........C=1, gamma=0.1, kernel=rbf;, score=0.842 total time=  14.2s\n",
      "[CV 5/5] END ........C=1, gamma=0.1, kernel=rbf;, score=0.824 total time=  13.9s\n",
      "[CV 1/5] END .......C=1, gamma=0.1, kernel=poly;, score=0.866 total time=   3.6s\n",
      "[CV 2/5] END .......C=1, gamma=0.1, kernel=poly;, score=0.873 total time=   3.9s\n",
      "[CV 3/5] END .......C=1, gamma=0.1, kernel=poly;, score=0.858 total time=   3.8s\n",
      "[CV 4/5] END .......C=1, gamma=0.1, kernel=poly;, score=0.878 total time=   3.8s\n",
      "[CV 5/5] END .......C=1, gamma=0.1, kernel=poly;, score=0.863 total time=   3.9s\n",
      "[CV 1/5] END .........C=10, gamma=1, kernel=rbf;, score=0.287 total time=  15.8s\n",
      "[CV 2/5] END .........C=10, gamma=1, kernel=rbf;, score=0.289 total time=  15.6s\n",
      "[CV 3/5] END .........C=10, gamma=1, kernel=rbf;, score=0.266 total time=  16.2s\n",
      "[CV 4/5] END .........C=10, gamma=1, kernel=rbf;, score=0.279 total time=  15.6s\n",
      "[CV 5/5] END .........C=10, gamma=1, kernel=rbf;, score=0.296 total time=  15.6s\n",
      "[CV 1/5] END ........C=10, gamma=1, kernel=poly;, score=0.865 total time=   3.7s\n",
      "[CV 2/5] END ........C=10, gamma=1, kernel=poly;, score=0.872 total time=   3.8s\n",
      "[CV 3/5] END ........C=10, gamma=1, kernel=poly;, score=0.859 total time=   3.9s\n",
      "[CV 4/5] END ........C=10, gamma=1, kernel=poly;, score=0.879 total time=   3.8s\n",
      "[CV 5/5] END ........C=10, gamma=1, kernel=poly;, score=0.863 total time=   3.8s\n",
      "[CV 1/5] END .......C=10, gamma=0.1, kernel=rbf;, score=0.835 total time=  13.8s\n",
      "[CV 2/5] END .......C=10, gamma=0.1, kernel=rbf;, score=0.845 total time=  14.0s\n",
      "[CV 3/5] END .......C=10, gamma=0.1, kernel=rbf;, score=0.837 total time=  14.2s\n",
      "[CV 4/5] END .......C=10, gamma=0.1, kernel=rbf;, score=0.859 total time=  14.1s\n",
      "[CV 5/5] END .......C=10, gamma=0.1, kernel=rbf;, score=0.833 total time=  14.0s\n",
      "[CV 1/5] END ......C=10, gamma=0.1, kernel=poly;, score=0.865 total time=   4.0s\n",
      "[CV 2/5] END ......C=10, gamma=0.1, kernel=poly;, score=0.872 total time=   3.7s\n",
      "[CV 3/5] END ......C=10, gamma=0.1, kernel=poly;, score=0.859 total time=   3.6s\n",
      "[CV 4/5] END ......C=10, gamma=0.1, kernel=poly;, score=0.879 total time=   3.6s\n",
      "[CV 5/5] END ......C=10, gamma=0.1, kernel=poly;, score=0.863 total time=   3.8s\n"
     ]
    }
   ],
   "source": [
    "from sklearn.model_selection import GridSearchCV\n",
    "\n",
    "#defining parameter range\n",
    "param_grid = {'C' : [0.1,1,10],\n",
    "             'gamma': [1, 0.1],\n",
    "             'kernel': ['rbf','poly']}\n",
    "\n",
    "grid = GridSearchCV(SVC(), param_grid, refit = True, verbose = 3)\n",
    "history_svm = grid.fit(X_train, y_train)"
   ]
  },
  {
   "cell_type": "code",
   "execution_count": 13,
   "metadata": {
    "execution": {
     "iopub.execute_input": "2023-03-10T05:09:43.843761Z",
     "iopub.status.busy": "2023-03-10T05:09:43.843346Z",
     "iopub.status.idle": "2023-03-10T05:09:43.851198Z",
     "shell.execute_reply": "2023-03-10T05:09:43.849958Z",
     "shell.execute_reply.started": "2023-03-10T05:09:43.843719Z"
    }
   },
   "outputs": [
    {
     "name": "stdout",
     "output_type": "stream",
     "text": [
      "{'C': 0.1, 'gamma': 0.1, 'kernel': 'poly'}\n",
      "SVC(C=0.1, gamma=0.1, kernel='poly')\n"
     ]
    }
   ],
   "source": [
    "# print best parameter after tuning\n",
    "print(grid.best_params_)\n",
    "# print how our model looks after hyper-parameter tuning\n",
    "print(grid.best_estimator_)"
   ]
  },
  {
   "cell_type": "code",
   "execution_count": 14,
   "metadata": {
    "execution": {
     "iopub.execute_input": "2023-03-10T05:09:43.855917Z",
     "iopub.status.busy": "2023-03-10T05:09:43.855331Z",
     "iopub.status.idle": "2023-03-10T05:09:44.094897Z",
     "shell.execute_reply": "2023-03-10T05:09:44.093728Z",
     "shell.execute_reply.started": "2023-03-10T05:09:43.855864Z"
    }
   },
   "outputs": [
    {
     "name": "stdout",
     "output_type": "stream",
     "text": [
      "accuracy score:  0.8586666666666667\n",
      "f1_score :  0.8586666666666666\n"
     ]
    }
   ],
   "source": [
    "grid_predictions = grid.predict(X_val)\n",
    "print('accuracy score: ', accuracy_score(y_val,grid_predictions))\n",
    "print('f1_score : ', f1_score(y_val,grid_predictions,average='micro'))"
   ]
  },
  {
   "cell_type": "markdown",
   "metadata": {},
   "source": [
    "# Metadata Generator"
   ]
  },
  {
   "cell_type": "code",
   "execution_count": 15,
   "metadata": {
    "execution": {
     "iopub.execute_input": "2023-03-10T05:09:44.096427Z",
     "iopub.status.busy": "2023-03-10T05:09:44.096117Z",
     "iopub.status.idle": "2023-03-10T05:09:44.115634Z",
     "shell.execute_reply": "2023-03-10T05:09:44.114683Z",
     "shell.execute_reply.started": "2023-03-10T05:09:44.096396Z"
    }
   },
   "outputs": [],
   "source": [
    "import librosa\n",
    "def getdataf(filename):\n",
    "    y, sr = librosa.load(filename)\n",
    "    #fetching tempo\n",
    "    onset_env = librosa.onset.onset_strength(y=y, sr=sr)\n",
    "    tempo = librosa.beat.tempo(onset_envelope=onset_env, sr=sr)\n",
    "    #fetching beats\n",
    "    y_harmonic, y_percussive = librosa.effects.hpss(y)\n",
    "    tempo, beat_frames = librosa.beat.beat_track(y=y_percussive,sr=sr)\n",
    "    #chroma_stft\n",
    "    chroma_stft = librosa.feature.chroma_stft(y=y, sr=sr)\n",
    "    #rmse\n",
    "    rmse = librosa.feature.rms(y=y)\n",
    "    #fetching spectral centroid\n",
    "    spec_centroid = librosa.feature.spectral_centroid(y=y, sr=sr)[0]\n",
    "    #spectral bandwidth\n",
    "    spec_bw = librosa.feature.spectral_bandwidth(y=y, sr=sr)\n",
    "    #fetching spectral rolloff\n",
    "    spec_rolloff = librosa.feature.spectral_rolloff(y=y+0.01, sr=sr)[0]\n",
    "    #zero crossing rate\n",
    "    zero_crossing = librosa.feature.zero_crossing_rate(y)\n",
    "    #mfcc\n",
    "    mfcc = librosa.feature.mfcc(y=y, sr=sr)\n",
    "    #metadata dictionary\n",
    "    metadata_dict = {'chroma_stft_mean':np.mean(chroma_stft),'chroma_stft_var':np.var(chroma_stft),'rmse_mean':np.mean(rmse),'rmse_var':np.var(rmse),\n",
    "                     'spectral_centroid_mean':np.mean(spec_centroid),'spectral_centroid_var':np.var(spec_centroid),'spectral_bandwidth_mean':np.mean(spec_bw),'spectral_bandwidth':np.var(spec_bw), \n",
    "                     'rolloff_mean':np.mean(spec_rolloff),'rolloff_var':np.var(spec_rolloff), 'zero_crossing_rate_mean':np.mean(zero_crossing),'zero_crossing_rate_var':np.var(zero_crossing),\n",
    "                    # 'harmony_mean':np.mean(t_harmonics),'harmony_var':np.var(t_harmonics),\n",
    "                    # 'perceptr_mean':np.mean(perceptual_CQT),'perceptr_var':np.var(perceptual_CQT),\n",
    "                     'tempo':tempo}\n",
    "\n",
    "    for i in range(1,21):\n",
    "        metadata_dict.update({'mfcc'+str(i)+'_mean':np.mean(mfcc[i-1])})\n",
    "        metadata_dict.update({'mfcc'+str(i)+'_var':np.var(mfcc[i-1])})\n",
    "    df_meta = pd.DataFrame(metadata_dict,index=[0])\n",
    "    return df_meta"
   ]
  },
  {
   "cell_type": "code",
   "execution_count": 16,
   "metadata": {
    "execution": {
     "iopub.execute_input": "2023-03-10T05:09:44.117613Z",
     "iopub.status.busy": "2023-03-10T05:09:44.116744Z",
     "iopub.status.idle": "2023-03-10T05:09:44.356110Z",
     "shell.execute_reply": "2023-03-10T05:09:44.354885Z",
     "shell.execute_reply.started": "2023-03-10T05:09:44.117578Z"
    }
   },
   "outputs": [
    {
     "name": "stdout",
     "output_type": "stream",
     "text": [
      "accuracy score:  0.8891855807743658\n",
      "f1_score :  0.8891855807743658\n"
     ]
    }
   ],
   "source": [
    "#Prediction Accuracy after hyperparameter tuning\n",
    "grid_predictions_test = grid.predict(X_test)\n",
    "print('accuracy score: ', accuracy_score(y_test,grid_predictions_test))\n",
    "print('f1_score : ', f1_score(y_test,grid_predictions_test,average='micro'))\n"
   ]
  },
  {
   "cell_type": "markdown",
   "metadata": {},
   "source": [
    "# XGBoost"
   ]
  },
  {
   "cell_type": "code",
   "execution_count": 17,
   "metadata": {},
   "outputs": [
    {
     "name": "stdout",
     "output_type": "stream",
     "text": [
      "Requirement already satisfied: xgboost in c:\\users\\caleb\\anaconda3\\lib\\site-packages (2.0.3)\n",
      "Requirement already satisfied: numpy in c:\\users\\caleb\\anaconda3\\lib\\site-packages (from xgboost) (1.21.5)\n",
      "Requirement already satisfied: scipy in c:\\users\\caleb\\anaconda3\\lib\\site-packages (from xgboost) (1.7.3)\n",
      "Note: you may need to restart the kernel to use updated packages.\n"
     ]
    }
   ],
   "source": [
    "pip install xgboost"
   ]
  },
  {
   "cell_type": "code",
   "execution_count": 18,
   "metadata": {
    "execution": {
     "iopub.execute_input": "2023-03-10T05:09:44.357506Z",
     "iopub.status.busy": "2023-03-10T05:09:44.357207Z",
     "iopub.status.idle": "2023-03-10T05:09:44.449716Z",
     "shell.execute_reply": "2023-03-10T05:09:44.448518Z",
     "shell.execute_reply.started": "2023-03-10T05:09:44.357477Z"
    }
   },
   "outputs": [],
   "source": [
    "import xgboost\n",
    "from sklearn.model_selection import train_test_split\n",
    "from sklearn.model_selection import GridSearchCV\n",
    "from sklearn.metrics import roc_auc_score\n",
    "\n",
    "import matplotlib.pyplot as plt"
   ]
  },
  {
   "cell_type": "code",
   "execution_count": 19,
   "metadata": {
    "execution": {
     "iopub.execute_input": "2023-03-10T05:09:44.451414Z",
     "iopub.status.busy": "2023-03-10T05:09:44.451075Z",
     "iopub.status.idle": "2023-03-10T05:09:44.460300Z",
     "shell.execute_reply": "2023-03-10T05:09:44.458937Z",
     "shell.execute_reply.started": "2023-03-10T05:09:44.451381Z"
    }
   },
   "outputs": [],
   "source": [
    "def plotTraining(history):\n",
    "    acc = history.history['accuracy']\n",
    "    val_acc = history.history['val_accuracy']\n",
    "    loss = history.history['loss']\n",
    "    val_loss = history.history['val_loss']\n",
    "\n",
    "    epochs = range(1, len(acc) + 1)\n",
    "\n",
    "    plt.plot(epochs, acc, 'bo', label='Training_acc')\n",
    "    plt.plot(epochs, val_acc, 'b', label='Validation_acc')\n",
    "    plt.title('Training and validation accuracy')\n",
    "    plt.legend() \n",
    "\n",
    "    plt.figure() \n",
    "\n",
    "    plt.plot(epochs, loss, 'bo', label='Training_loss')\n",
    "    plt.plot(epochs, val_loss, 'b', label='Validation_loss')\n",
    "    plt.title('Training and validation loss')\n",
    "    plt.legend() \n",
    "\n",
    "    plt.show()"
   ]
  },
  {
   "cell_type": "code",
   "execution_count": 20,
   "metadata": {
    "execution": {
     "iopub.execute_input": "2023-03-10T05:09:44.462267Z",
     "iopub.status.busy": "2023-03-10T05:09:44.461856Z",
     "iopub.status.idle": "2023-03-10T05:10:25.151908Z",
     "shell.execute_reply": "2023-03-10T05:10:25.150619Z",
     "shell.execute_reply.started": "2023-03-10T05:09:44.462232Z"
    }
   },
   "outputs": [
    {
     "name": "stdout",
     "output_type": "stream",
     "text": [
      "[0]\tvalidation_0-auc:0.85928\n"
     ]
    },
    {
     "name": "stderr",
     "output_type": "stream",
     "text": [
      "C:\\Users\\caleb\\anaconda3\\lib\\site-packages\\xgboost\\sklearn.py:889: UserWarning: `early_stopping_rounds` in `fit` method is deprecated for better compatibility with scikit-learn, use `early_stopping_rounds` in constructor or`set_params` instead.\n",
      "  warnings.warn(\n"
     ]
    },
    {
     "name": "stdout",
     "output_type": "stream",
     "text": [
      "[1]\tvalidation_0-auc:0.89573\n",
      "[2]\tvalidation_0-auc:0.91451\n",
      "[3]\tvalidation_0-auc:0.92408\n",
      "[4]\tvalidation_0-auc:0.93299\n",
      "[5]\tvalidation_0-auc:0.93799\n",
      "[6]\tvalidation_0-auc:0.94117\n",
      "[7]\tvalidation_0-auc:0.94302\n",
      "[8]\tvalidation_0-auc:0.94530\n",
      "[9]\tvalidation_0-auc:0.94622\n",
      "[10]\tvalidation_0-auc:0.94801\n",
      "[11]\tvalidation_0-auc:0.94922\n",
      "[12]\tvalidation_0-auc:0.94973\n",
      "[13]\tvalidation_0-auc:0.95110\n",
      "[14]\tvalidation_0-auc:0.95326\n",
      "[15]\tvalidation_0-auc:0.95390\n",
      "[16]\tvalidation_0-auc:0.95573\n",
      "[17]\tvalidation_0-auc:0.95659\n",
      "[18]\tvalidation_0-auc:0.95770\n",
      "[19]\tvalidation_0-auc:0.95858\n",
      "[20]\tvalidation_0-auc:0.95914\n",
      "[21]\tvalidation_0-auc:0.95996\n",
      "[22]\tvalidation_0-auc:0.96062\n",
      "[23]\tvalidation_0-auc:0.96108\n",
      "[24]\tvalidation_0-auc:0.96162\n",
      "[25]\tvalidation_0-auc:0.96194\n",
      "[26]\tvalidation_0-auc:0.96245\n",
      "[27]\tvalidation_0-auc:0.96278\n",
      "[28]\tvalidation_0-auc:0.96280\n",
      "[29]\tvalidation_0-auc:0.96311\n",
      "[30]\tvalidation_0-auc:0.96323\n",
      "[31]\tvalidation_0-auc:0.96368\n",
      "[32]\tvalidation_0-auc:0.96424\n",
      "[33]\tvalidation_0-auc:0.96472\n",
      "[34]\tvalidation_0-auc:0.96513\n",
      "[35]\tvalidation_0-auc:0.96601\n",
      "[36]\tvalidation_0-auc:0.96619\n",
      "[37]\tvalidation_0-auc:0.96655\n",
      "[38]\tvalidation_0-auc:0.96696\n",
      "[39]\tvalidation_0-auc:0.96719\n",
      "[40]\tvalidation_0-auc:0.96768\n",
      "[41]\tvalidation_0-auc:0.96766\n",
      "[42]\tvalidation_0-auc:0.96803\n",
      "[43]\tvalidation_0-auc:0.96850\n",
      "[44]\tvalidation_0-auc:0.96887\n",
      "[45]\tvalidation_0-auc:0.96934\n",
      "[46]\tvalidation_0-auc:0.96974\n",
      "[47]\tvalidation_0-auc:0.97018\n",
      "[48]\tvalidation_0-auc:0.97057\n",
      "[49]\tvalidation_0-auc:0.97081\n",
      "[50]\tvalidation_0-auc:0.97099\n",
      "[51]\tvalidation_0-auc:0.97134\n",
      "[52]\tvalidation_0-auc:0.97167\n",
      "[53]\tvalidation_0-auc:0.97186\n",
      "[54]\tvalidation_0-auc:0.97198\n",
      "[55]\tvalidation_0-auc:0.97250\n",
      "[56]\tvalidation_0-auc:0.97281\n",
      "[57]\tvalidation_0-auc:0.97291\n",
      "[58]\tvalidation_0-auc:0.97303\n",
      "[59]\tvalidation_0-auc:0.97339\n",
      "[60]\tvalidation_0-auc:0.97381\n",
      "[61]\tvalidation_0-auc:0.97387\n",
      "[62]\tvalidation_0-auc:0.97413\n",
      "[63]\tvalidation_0-auc:0.97439\n",
      "[64]\tvalidation_0-auc:0.97425\n",
      "[65]\tvalidation_0-auc:0.97442\n",
      "[66]\tvalidation_0-auc:0.97453\n",
      "[67]\tvalidation_0-auc:0.97481\n",
      "[68]\tvalidation_0-auc:0.97509\n",
      "[69]\tvalidation_0-auc:0.97544\n",
      "[70]\tvalidation_0-auc:0.97570\n",
      "[71]\tvalidation_0-auc:0.97585\n",
      "[72]\tvalidation_0-auc:0.97594\n",
      "[73]\tvalidation_0-auc:0.97614\n",
      "[74]\tvalidation_0-auc:0.97629\n",
      "[75]\tvalidation_0-auc:0.97639\n",
      "[76]\tvalidation_0-auc:0.97663\n",
      "[77]\tvalidation_0-auc:0.97681\n",
      "[78]\tvalidation_0-auc:0.97680\n",
      "[79]\tvalidation_0-auc:0.97697\n",
      "[80]\tvalidation_0-auc:0.97708\n",
      "[81]\tvalidation_0-auc:0.97730\n",
      "[82]\tvalidation_0-auc:0.97742\n",
      "[83]\tvalidation_0-auc:0.97749\n",
      "[84]\tvalidation_0-auc:0.97762\n",
      "[85]\tvalidation_0-auc:0.97772\n",
      "[86]\tvalidation_0-auc:0.97780\n",
      "[87]\tvalidation_0-auc:0.97806\n",
      "[88]\tvalidation_0-auc:0.97817\n",
      "[89]\tvalidation_0-auc:0.97827\n",
      "[90]\tvalidation_0-auc:0.97836\n",
      "[91]\tvalidation_0-auc:0.97861\n",
      "[92]\tvalidation_0-auc:0.97884\n",
      "[93]\tvalidation_0-auc:0.97890\n",
      "[94]\tvalidation_0-auc:0.97906\n",
      "[95]\tvalidation_0-auc:0.97911\n",
      "[96]\tvalidation_0-auc:0.97925\n",
      "[97]\tvalidation_0-auc:0.97936\n",
      "[98]\tvalidation_0-auc:0.97937\n",
      "[99]\tvalidation_0-auc:0.97951\n",
      "[100]\tvalidation_0-auc:0.97974\n",
      "[101]\tvalidation_0-auc:0.97987\n",
      "[102]\tvalidation_0-auc:0.98003\n",
      "[103]\tvalidation_0-auc:0.98008\n",
      "[104]\tvalidation_0-auc:0.98008\n",
      "[105]\tvalidation_0-auc:0.98020\n",
      "[106]\tvalidation_0-auc:0.98031\n",
      "[107]\tvalidation_0-auc:0.98039\n",
      "[108]\tvalidation_0-auc:0.98049\n",
      "[109]\tvalidation_0-auc:0.98056\n",
      "[110]\tvalidation_0-auc:0.98060\n",
      "[111]\tvalidation_0-auc:0.98072\n",
      "[112]\tvalidation_0-auc:0.98080\n",
      "[113]\tvalidation_0-auc:0.98096\n",
      "[114]\tvalidation_0-auc:0.98105\n",
      "[115]\tvalidation_0-auc:0.98107\n",
      "[116]\tvalidation_0-auc:0.98113\n",
      "[117]\tvalidation_0-auc:0.98125\n",
      "[118]\tvalidation_0-auc:0.98136\n",
      "[119]\tvalidation_0-auc:0.98135\n",
      "[120]\tvalidation_0-auc:0.98138\n",
      "[121]\tvalidation_0-auc:0.98154\n",
      "[122]\tvalidation_0-auc:0.98150\n",
      "[123]\tvalidation_0-auc:0.98154\n",
      "[124]\tvalidation_0-auc:0.98172\n",
      "[125]\tvalidation_0-auc:0.98176\n",
      "[126]\tvalidation_0-auc:0.98173\n",
      "[127]\tvalidation_0-auc:0.98175\n",
      "[128]\tvalidation_0-auc:0.98181\n",
      "[129]\tvalidation_0-auc:0.98186\n",
      "[130]\tvalidation_0-auc:0.98184\n",
      "[131]\tvalidation_0-auc:0.98194\n",
      "[132]\tvalidation_0-auc:0.98207\n",
      "[133]\tvalidation_0-auc:0.98210\n",
      "[134]\tvalidation_0-auc:0.98213\n",
      "[135]\tvalidation_0-auc:0.98223\n",
      "[136]\tvalidation_0-auc:0.98238\n",
      "[137]\tvalidation_0-auc:0.98247\n",
      "[138]\tvalidation_0-auc:0.98254\n",
      "[139]\tvalidation_0-auc:0.98260\n",
      "[140]\tvalidation_0-auc:0.98267\n",
      "[141]\tvalidation_0-auc:0.98271\n",
      "[142]\tvalidation_0-auc:0.98297\n",
      "[143]\tvalidation_0-auc:0.98299\n",
      "[144]\tvalidation_0-auc:0.98304\n",
      "[145]\tvalidation_0-auc:0.98304\n",
      "[146]\tvalidation_0-auc:0.98310\n",
      "[147]\tvalidation_0-auc:0.98316\n",
      "[148]\tvalidation_0-auc:0.98322\n",
      "[149]\tvalidation_0-auc:0.98322\n",
      "[150]\tvalidation_0-auc:0.98327\n",
      "[151]\tvalidation_0-auc:0.98336\n",
      "[152]\tvalidation_0-auc:0.98346\n",
      "[153]\tvalidation_0-auc:0.98349\n",
      "[154]\tvalidation_0-auc:0.98359\n",
      "[155]\tvalidation_0-auc:0.98366\n",
      "[156]\tvalidation_0-auc:0.98365\n",
      "[157]\tvalidation_0-auc:0.98371\n",
      "[158]\tvalidation_0-auc:0.98369\n",
      "[159]\tvalidation_0-auc:0.98376\n",
      "[160]\tvalidation_0-auc:0.98378\n",
      "[161]\tvalidation_0-auc:0.98381\n",
      "[162]\tvalidation_0-auc:0.98386\n",
      "[163]\tvalidation_0-auc:0.98393\n",
      "[164]\tvalidation_0-auc:0.98398\n",
      "[165]\tvalidation_0-auc:0.98399\n",
      "[166]\tvalidation_0-auc:0.98403\n",
      "[167]\tvalidation_0-auc:0.98408\n",
      "[168]\tvalidation_0-auc:0.98407\n",
      "[169]\tvalidation_0-auc:0.98415\n",
      "[170]\tvalidation_0-auc:0.98411\n",
      "[171]\tvalidation_0-auc:0.98408\n",
      "[172]\tvalidation_0-auc:0.98419\n",
      "[173]\tvalidation_0-auc:0.98420\n",
      "[174]\tvalidation_0-auc:0.98428\n",
      "[175]\tvalidation_0-auc:0.98431\n",
      "[176]\tvalidation_0-auc:0.98438\n",
      "[177]\tvalidation_0-auc:0.98439\n",
      "[178]\tvalidation_0-auc:0.98446\n",
      "[179]\tvalidation_0-auc:0.98443\n",
      "[180]\tvalidation_0-auc:0.98454\n",
      "[181]\tvalidation_0-auc:0.98458\n",
      "[182]\tvalidation_0-auc:0.98460\n",
      "[183]\tvalidation_0-auc:0.98462\n",
      "[184]\tvalidation_0-auc:0.98470\n",
      "[185]\tvalidation_0-auc:0.98471\n",
      "[186]\tvalidation_0-auc:0.98473\n",
      "[187]\tvalidation_0-auc:0.98484\n",
      "[188]\tvalidation_0-auc:0.98488\n",
      "[189]\tvalidation_0-auc:0.98486\n",
      "[190]\tvalidation_0-auc:0.98487\n",
      "[191]\tvalidation_0-auc:0.98495\n",
      "[192]\tvalidation_0-auc:0.98500\n",
      "[193]\tvalidation_0-auc:0.98507\n",
      "[194]\tvalidation_0-auc:0.98506\n",
      "[195]\tvalidation_0-auc:0.98504\n",
      "[196]\tvalidation_0-auc:0.98502\n",
      "[197]\tvalidation_0-auc:0.98509\n",
      "[198]\tvalidation_0-auc:0.98518\n",
      "[199]\tvalidation_0-auc:0.98519\n",
      "[200]\tvalidation_0-auc:0.98520\n",
      "[201]\tvalidation_0-auc:0.98528\n",
      "[202]\tvalidation_0-auc:0.98527\n",
      "[203]\tvalidation_0-auc:0.98527\n",
      "[204]\tvalidation_0-auc:0.98526\n",
      "[205]\tvalidation_0-auc:0.98522\n",
      "[206]\tvalidation_0-auc:0.98528\n",
      "[207]\tvalidation_0-auc:0.98522\n",
      "[208]\tvalidation_0-auc:0.98524\n",
      "[209]\tvalidation_0-auc:0.98532\n",
      "[210]\tvalidation_0-auc:0.98539\n",
      "[211]\tvalidation_0-auc:0.98541\n",
      "[212]\tvalidation_0-auc:0.98545\n",
      "[213]\tvalidation_0-auc:0.98542\n",
      "[214]\tvalidation_0-auc:0.98549\n",
      "[215]\tvalidation_0-auc:0.98547\n",
      "[216]\tvalidation_0-auc:0.98553\n",
      "[217]\tvalidation_0-auc:0.98555\n",
      "[218]\tvalidation_0-auc:0.98562\n",
      "[219]\tvalidation_0-auc:0.98569\n",
      "[220]\tvalidation_0-auc:0.98576\n",
      "[221]\tvalidation_0-auc:0.98575\n",
      "[222]\tvalidation_0-auc:0.98584\n",
      "[223]\tvalidation_0-auc:0.98590\n",
      "[224]\tvalidation_0-auc:0.98585\n",
      "[225]\tvalidation_0-auc:0.98584\n",
      "[226]\tvalidation_0-auc:0.98587\n",
      "[227]\tvalidation_0-auc:0.98589\n",
      "[228]\tvalidation_0-auc:0.98595\n",
      "[229]\tvalidation_0-auc:0.98596\n",
      "[230]\tvalidation_0-auc:0.98600\n",
      "[231]\tvalidation_0-auc:0.98602\n",
      "[232]\tvalidation_0-auc:0.98605\n",
      "[233]\tvalidation_0-auc:0.98604\n",
      "[234]\tvalidation_0-auc:0.98603\n",
      "[235]\tvalidation_0-auc:0.98604\n",
      "[236]\tvalidation_0-auc:0.98605\n",
      "[237]\tvalidation_0-auc:0.98606\n",
      "[238]\tvalidation_0-auc:0.98608\n",
      "[239]\tvalidation_0-auc:0.98606\n",
      "[240]\tvalidation_0-auc:0.98607\n",
      "[241]\tvalidation_0-auc:0.98606\n",
      "[242]\tvalidation_0-auc:0.98617\n",
      "[243]\tvalidation_0-auc:0.98623\n",
      "[244]\tvalidation_0-auc:0.98619\n",
      "[245]\tvalidation_0-auc:0.98626\n",
      "[246]\tvalidation_0-auc:0.98630\n",
      "[247]\tvalidation_0-auc:0.98635\n",
      "[248]\tvalidation_0-auc:0.98639\n",
      "[249]\tvalidation_0-auc:0.98640\n",
      "[250]\tvalidation_0-auc:0.98637\n",
      "[251]\tvalidation_0-auc:0.98645\n",
      "[252]\tvalidation_0-auc:0.98648\n",
      "[253]\tvalidation_0-auc:0.98650\n",
      "[254]\tvalidation_0-auc:0.98647\n",
      "[255]\tvalidation_0-auc:0.98646\n",
      "[256]\tvalidation_0-auc:0.98642\n",
      "[257]\tvalidation_0-auc:0.98642\n",
      "[258]\tvalidation_0-auc:0.98642\n",
      "[259]\tvalidation_0-auc:0.98651\n",
      "[260]\tvalidation_0-auc:0.98650\n",
      "[261]\tvalidation_0-auc:0.98651\n",
      "[262]\tvalidation_0-auc:0.98655\n",
      "[263]\tvalidation_0-auc:0.98655\n",
      "[264]\tvalidation_0-auc:0.98659\n",
      "[265]\tvalidation_0-auc:0.98661\n",
      "[266]\tvalidation_0-auc:0.98664\n",
      "[267]\tvalidation_0-auc:0.98672\n",
      "[268]\tvalidation_0-auc:0.98671\n"
     ]
    },
    {
     "name": "stdout",
     "output_type": "stream",
     "text": [
      "[269]\tvalidation_0-auc:0.98675\n",
      "[270]\tvalidation_0-auc:0.98678\n",
      "[271]\tvalidation_0-auc:0.98673\n",
      "[272]\tvalidation_0-auc:0.98677\n",
      "[273]\tvalidation_0-auc:0.98676\n",
      "[274]\tvalidation_0-auc:0.98674\n",
      "[275]\tvalidation_0-auc:0.98671\n",
      "[276]\tvalidation_0-auc:0.98673\n",
      "[277]\tvalidation_0-auc:0.98673\n",
      "[278]\tvalidation_0-auc:0.98673\n",
      "[279]\tvalidation_0-auc:0.98674\n",
      "[280]\tvalidation_0-auc:0.98677\n"
     ]
    },
    {
     "data": {
      "text/html": [
       "<style>#sk-container-id-2 {color: black;background-color: white;}#sk-container-id-2 pre{padding: 0;}#sk-container-id-2 div.sk-toggleable {background-color: white;}#sk-container-id-2 label.sk-toggleable__label {cursor: pointer;display: block;width: 100%;margin-bottom: 0;padding: 0.3em;box-sizing: border-box;text-align: center;}#sk-container-id-2 label.sk-toggleable__label-arrow:before {content: \"▸\";float: left;margin-right: 0.25em;color: #696969;}#sk-container-id-2 label.sk-toggleable__label-arrow:hover:before {color: black;}#sk-container-id-2 div.sk-estimator:hover label.sk-toggleable__label-arrow:before {color: black;}#sk-container-id-2 div.sk-toggleable__content {max-height: 0;max-width: 0;overflow: hidden;text-align: left;background-color: #f0f8ff;}#sk-container-id-2 div.sk-toggleable__content pre {margin: 0.2em;color: black;border-radius: 0.25em;background-color: #f0f8ff;}#sk-container-id-2 input.sk-toggleable__control:checked~div.sk-toggleable__content {max-height: 200px;max-width: 100%;overflow: auto;}#sk-container-id-2 input.sk-toggleable__control:checked~label.sk-toggleable__label-arrow:before {content: \"▾\";}#sk-container-id-2 div.sk-estimator input.sk-toggleable__control:checked~label.sk-toggleable__label {background-color: #d4ebff;}#sk-container-id-2 div.sk-label input.sk-toggleable__control:checked~label.sk-toggleable__label {background-color: #d4ebff;}#sk-container-id-2 input.sk-hidden--visually {border: 0;clip: rect(1px 1px 1px 1px);clip: rect(1px, 1px, 1px, 1px);height: 1px;margin: -1px;overflow: hidden;padding: 0;position: absolute;width: 1px;}#sk-container-id-2 div.sk-estimator {font-family: monospace;background-color: #f0f8ff;border: 1px dotted black;border-radius: 0.25em;box-sizing: border-box;margin-bottom: 0.5em;}#sk-container-id-2 div.sk-estimator:hover {background-color: #d4ebff;}#sk-container-id-2 div.sk-parallel-item::after {content: \"\";width: 100%;border-bottom: 1px solid gray;flex-grow: 1;}#sk-container-id-2 div.sk-label:hover label.sk-toggleable__label {background-color: #d4ebff;}#sk-container-id-2 div.sk-serial::before {content: \"\";position: absolute;border-left: 1px solid gray;box-sizing: border-box;top: 0;bottom: 0;left: 50%;z-index: 0;}#sk-container-id-2 div.sk-serial {display: flex;flex-direction: column;align-items: center;background-color: white;padding-right: 0.2em;padding-left: 0.2em;position: relative;}#sk-container-id-2 div.sk-item {position: relative;z-index: 1;}#sk-container-id-2 div.sk-parallel {display: flex;align-items: stretch;justify-content: center;background-color: white;position: relative;}#sk-container-id-2 div.sk-item::before, #sk-container-id-2 div.sk-parallel-item::before {content: \"\";position: absolute;border-left: 1px solid gray;box-sizing: border-box;top: 0;bottom: 0;left: 50%;z-index: -1;}#sk-container-id-2 div.sk-parallel-item {display: flex;flex-direction: column;z-index: 1;position: relative;background-color: white;}#sk-container-id-2 div.sk-parallel-item:first-child::after {align-self: flex-end;width: 50%;}#sk-container-id-2 div.sk-parallel-item:last-child::after {align-self: flex-start;width: 50%;}#sk-container-id-2 div.sk-parallel-item:only-child::after {width: 0;}#sk-container-id-2 div.sk-dashed-wrapped {border: 1px dashed gray;margin: 0 0.4em 0.5em 0.4em;box-sizing: border-box;padding-bottom: 0.4em;background-color: white;}#sk-container-id-2 div.sk-label label {font-family: monospace;font-weight: bold;display: inline-block;line-height: 1.2em;}#sk-container-id-2 div.sk-label-container {text-align: center;}#sk-container-id-2 div.sk-container {/* jupyter's `normalize.less` sets `[hidden] { display: none; }` but bootstrap.min.css set `[hidden] { display: none !important; }` so we also need the `!important` here to be able to override the default hidden behavior on the sphinx rendered scikit-learn.org. See: https://github.com/scikit-learn/scikit-learn/issues/21755 */display: inline-block !important;position: relative;}#sk-container-id-2 div.sk-text-repr-fallback {display: none;}</style><div id=\"sk-container-id-2\" class=\"sk-top-container\"><div class=\"sk-text-repr-fallback\"><pre>XGBClassifier(base_score=None, booster=None, callbacks=None,\n",
       "              colsample_bylevel=None, colsample_bynode=None,\n",
       "              colsample_bytree=0.5, device=None, early_stopping_rounds=None,\n",
       "              enable_categorical=False, eval_metric=&#x27;auc&#x27;, feature_types=None,\n",
       "              gamma=None, grow_policy=None, importance_type=None,\n",
       "              interaction_constraints=None, learning_rate=0.1, max_bin=None,\n",
       "              max_cat_threshold=None, max_cat_to_onehot=None,\n",
       "              max_delta_step=None, max_depth=5, max_leaves=None,\n",
       "              min_child_weight=None, missing=nan, monotone_constraints=None,\n",
       "              multi_strategy=None, n_estimators=5000, n_jobs=None,\n",
       "              num_parallel_tree=None, objective=&#x27;multi:softprob&#x27;, ...)</pre><b>In a Jupyter environment, please rerun this cell to show the HTML representation or trust the notebook. <br />On GitHub, the HTML representation is unable to render, please try loading this page with nbviewer.org.</b></div><div class=\"sk-container\" hidden><div class=\"sk-item\"><div class=\"sk-estimator sk-toggleable\"><input class=\"sk-toggleable__control sk-hidden--visually\" id=\"sk-estimator-id-2\" type=\"checkbox\" checked><label for=\"sk-estimator-id-2\" class=\"sk-toggleable__label sk-toggleable__label-arrow\">XGBClassifier</label><div class=\"sk-toggleable__content\"><pre>XGBClassifier(base_score=None, booster=None, callbacks=None,\n",
       "              colsample_bylevel=None, colsample_bynode=None,\n",
       "              colsample_bytree=0.5, device=None, early_stopping_rounds=None,\n",
       "              enable_categorical=False, eval_metric=&#x27;auc&#x27;, feature_types=None,\n",
       "              gamma=None, grow_policy=None, importance_type=None,\n",
       "              interaction_constraints=None, learning_rate=0.1, max_bin=None,\n",
       "              max_cat_threshold=None, max_cat_to_onehot=None,\n",
       "              max_delta_step=None, max_depth=5, max_leaves=None,\n",
       "              min_child_weight=None, missing=nan, monotone_constraints=None,\n",
       "              multi_strategy=None, n_estimators=5000, n_jobs=None,\n",
       "              num_parallel_tree=None, objective=&#x27;multi:softprob&#x27;, ...)</pre></div></div></div></div></div>"
      ],
      "text/plain": [
       "XGBClassifier(base_score=None, booster=None, callbacks=None,\n",
       "              colsample_bylevel=None, colsample_bynode=None,\n",
       "              colsample_bytree=0.5, device=None, early_stopping_rounds=None,\n",
       "              enable_categorical=False, eval_metric='auc', feature_types=None,\n",
       "              gamma=None, grow_policy=None, importance_type=None,\n",
       "              interaction_constraints=None, learning_rate=0.1, max_bin=None,\n",
       "              max_cat_threshold=None, max_cat_to_onehot=None,\n",
       "              max_delta_step=None, max_depth=5, max_leaves=None,\n",
       "              min_child_weight=None, missing=nan, monotone_constraints=None,\n",
       "              multi_strategy=None, n_estimators=5000, n_jobs=None,\n",
       "              num_parallel_tree=None, objective='multi:softprob', ...)"
      ]
     },
     "execution_count": 20,
     "metadata": {},
     "output_type": "execute_result"
    }
   ],
   "source": [
    "model_xgboost = xgboost.XGBClassifier(learning_rate=0.1,\n",
    "                                      max_depth=5,\n",
    "                                      n_estimators=5000,\n",
    "                                      subsample=0.5,\n",
    "                                      colsample_bytree=0.5,\n",
    "                                      eval_metric='auc',\n",
    "                                      verbosity=1)\n",
    "\n",
    "eval_set = [(X_val, y_val)]\n",
    "\n",
    "model_xgboost.fit(X_train,\n",
    "                  y_train,\n",
    "                  early_stopping_rounds=10,\n",
    "                  eval_set=eval_set,\n",
    "                  verbose=True)"
   ]
  },
  {
   "cell_type": "markdown",
   "metadata": {},
   "source": [
    "# Testing on New song"
   ]
  },
  {
   "cell_type": "code",
   "execution_count": 26,
   "metadata": {
    "collapsed": true,
    "execution": {
     "iopub.execute_input": "2023-03-10T05:10:25.161772Z",
     "iopub.status.busy": "2023-03-10T05:10:25.161479Z",
     "iopub.status.idle": "2023-03-10T05:10:46.987648Z",
     "shell.execute_reply": "2023-03-10T05:10:46.985949Z",
     "shell.execute_reply.started": "2023-03-10T05:10:25.161743Z"
    }
   },
   "outputs": [
    {
     "name": "stderr",
     "output_type": "stream",
     "text": [
      "C:\\Users\\caleb\\AppData\\Local\\Temp\\ipykernel_9128\\1568602305.py:10: FutureWarning: librosa.beat.tempo\n",
      "\tThis function was moved to 'librosa.feature.rhythm.tempo' in librosa version 0.10.0.\n",
      "\tThis alias will be removed in librosa version 1.0.\n",
      "  tempo = librosa.beat.tempo(onset_envelope=onset_env, sr=sr)\n"
     ]
    },
    {
     "name": "stdout",
     "output_type": "stream",
     "text": [
      "[[-1.54265197  0.1160742  -0.16720028  1.82888448 -1.59653387 -0.5586302\n",
      "  -1.79962935  0.53395641 -1.78050598 -0.75147617 -1.02959767  0.14149852\n",
      "   0.82953494 -0.88962147  3.56717154  1.25716062  1.74311451  0.27575491\n",
      "   0.30072578 -1.41139713  0.49839751  0.92330465  0.21194254 -1.7868914\n",
      "   0.30961823 -0.16976013  0.42981296 -1.67248043  0.52809704 -0.58552272\n",
      "   0.14132031 -1.48047036  0.90338973 -0.33135825  0.52676692 -1.63656536\n",
      "   0.66955668 -0.1360401   0.47610572 -0.85734593  0.42253159  0.37700214\n",
      "   0.2936702  -0.50392676  1.13090324  0.3150548   0.76616234  0.05838287\n",
      "   0.54691871 -0.89459962  1.00183481 -0.61658653  0.86116736]]\n",
      "[2]\n"
     ]
    },
    {
     "name": "stderr",
     "output_type": "stream",
     "text": [
      "C:\\Users\\caleb\\anaconda3\\lib\\site-packages\\sklearn\\base.py:493: FutureWarning: The feature names should match those that were passed during fit. Starting version 1.2, an error will be raised.\n",
      "Feature names unseen at fit time:\n",
      "- rmse_mean\n",
      "- rmse_var\n",
      "- spectral_bandwidth\n",
      "Feature names seen at fit time, yet now missing:\n",
      "- rms_mean\n",
      "- rms_var\n",
      "- spectral_bandwidth_var\n",
      "\n",
      "  warnings.warn(message, FutureWarning)\n"
     ]
    }
   ],
   "source": [
    "#df genration for new song\n",
    "df=getdataf(\"1000.wav\")\n",
    "df = sc.transform(df)\n",
    "print(df)\n",
    "test_predict = grid.predict(df)\n",
    "print(test_predict)"
   ]
  },
  {
   "cell_type": "code",
   "execution_count": 27,
   "metadata": {
    "execution": {
     "iopub.execute_input": "2023-03-10T05:10:46.991567Z",
     "iopub.status.busy": "2023-03-10T05:10:46.990269Z",
     "iopub.status.idle": "2023-03-10T05:10:47.021386Z",
     "shell.execute_reply": "2023-03-10T05:10:47.020250Z",
     "shell.execute_reply.started": "2023-03-10T05:10:46.991491Z"
    }
   },
   "outputs": [
    {
     "name": "stdout",
     "output_type": "stream",
     "text": [
      "[2]\n",
      "country\n"
     ]
    }
   ],
   "source": [
    "test_predict1 = model_xgboost.predict(df)\n",
    "print(test_predict1)\n",
    "print(list(genre_map.keys())[list(genre_map.values()).index(test_predict1)])"
   ]
  },
  {
   "cell_type": "code",
   "execution_count": null,
   "metadata": {},
   "outputs": [],
   "source": []
  }
 ],
 "metadata": {
  "kernelspec": {
   "display_name": "Python 3 (ipykernel)",
   "language": "python",
   "name": "python3"
  },
  "language_info": {
   "codemirror_mode": {
    "name": "ipython",
    "version": 3
   },
   "file_extension": ".py",
   "mimetype": "text/x-python",
   "name": "python",
   "nbconvert_exporter": "python",
   "pygments_lexer": "ipython3",
   "version": "3.9.12"
  }
 },
 "nbformat": 4,
 "nbformat_minor": 4
}
