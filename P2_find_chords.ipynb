{
 "cells": [
  {
   "cell_type": "markdown",
   "id": "de15423b",
   "metadata": {},
   "source": [
    "### Finding the chord families of each scale"
   ]
  },
  {
   "cell_type": "code",
   "execution_count": 2,
   "id": "f2010365",
   "metadata": {},
   "outputs": [
    {
     "data": {
      "text/plain": [
       "{'C': ['C', 'F', 'G'],\n",
       " 'C#': ['C#', 'F#', 'G#'],\n",
       " 'D': ['D', 'G', 'A'],\n",
       " 'D#': ['D#', 'G#', 'A#'],\n",
       " 'E': ['E', 'A', 'B'],\n",
       " 'F': ['F', 'A#', 'C'],\n",
       " 'F#': ['F#', 'B', 'C#'],\n",
       " 'G': ['G', 'C', 'D'],\n",
       " 'G#': ['G#', 'C#', 'D#'],\n",
       " 'A': ['A', 'D', 'E'],\n",
       " 'A#': ['A#', 'D#', 'F'],\n",
       " 'B': ['B', 'E', 'F#']}"
      ]
     },
     "execution_count": 2,
     "metadata": {},
     "output_type": "execute_result"
    }
   ],
   "source": [
    "#chord_family = { 'C' : ['C', 'F', 'G', 'Am', 'Dm', 'Em']}\n",
    "chord_family = { 'C' : ['C', 'F', 'G']}\n",
    "octave_notes = ['C', 'C#', 'D', 'D#', 'E', 'F', 'F#', 'G', 'G#', 'A', 'A#', 'B']\n",
    "for i in range(1, len(octave_notes)):\n",
    "    x = octave_notes[i]\n",
    "    l = []\n",
    "    for j in chord_family['C']:\n",
    "        j2 = j[0]\n",
    "        temp = octave_notes.index(j2)\n",
    "        temp2 = (i + temp)%(len(octave_notes))\n",
    "        new = octave_notes[temp2]\n",
    "        if len(j) > 1:\n",
    "            new += 'm'\n",
    "        l.append(new)\n",
    "    chord_family[octave_notes[i]] = l\n",
    "    \n",
    "chord_family"
   ]
  },
  {
   "cell_type": "markdown",
   "id": "f0ed8c55",
   "metadata": {},
   "source": [
    "### Finding the notes in each chord"
   ]
  },
  {
   "cell_type": "code",
   "execution_count": 3,
   "id": "b23a7371",
   "metadata": {},
   "outputs": [
    {
     "data": {
      "text/plain": [
       "{'C': ['C', 'E', 'G'],\n",
       " 'C#': ['C#', 'F', 'G#'],\n",
       " 'D': ['D', 'F#', 'A'],\n",
       " 'D#': ['D#', 'G', 'A#'],\n",
       " 'E': ['E', 'G#', 'B'],\n",
       " 'F': ['F', 'A', 'C'],\n",
       " 'F#': ['F#', 'A#', 'C#'],\n",
       " 'G': ['G', 'B', 'D'],\n",
       " 'G#': ['G#', 'C', 'D#'],\n",
       " 'A': ['A', 'C#', 'E'],\n",
       " 'A#': ['A#', 'D', 'F'],\n",
       " 'B': ['B', 'D#', 'F#']}"
      ]
     },
     "execution_count": 3,
     "metadata": {},
     "output_type": "execute_result"
    }
   ],
   "source": [
    "chord_notes_major = { 'C' : ['C', 'E', 'G']}\n",
    "for i in range(1, len(octave_notes)):\n",
    "    x = octave_notes[i]\n",
    "    l = []\n",
    "    for j in chord_notes_major['C']:\n",
    "        temp = octave_notes.index(j)\n",
    "        temp2 = (i + temp)%(len(octave_notes))\n",
    "        new = octave_notes[temp2]\n",
    "        l.append(new)\n",
    "    chord_notes_major[octave_notes[i]] = l\n",
    "    \n",
    "chord_notes_major"
   ]
  },
  {
   "cell_type": "code",
   "execution_count": 4,
   "id": "876a1140",
   "metadata": {},
   "outputs": [
    {
     "data": {
      "text/plain": [
       "{'Cm': ['C', 'D#', 'G'],\n",
       " 'C#m': ['C#', 'E', 'G#'],\n",
       " 'Dm': ['D', 'F', 'A'],\n",
       " 'D#m': ['D#', 'F#', 'A#'],\n",
       " 'Em': ['E', 'G', 'B'],\n",
       " 'Fm': ['F', 'G#', 'C'],\n",
       " 'F#m': ['F#', 'A', 'C#'],\n",
       " 'Gm': ['G', 'A#', 'D'],\n",
       " 'G#m': ['G#', 'B', 'D#'],\n",
       " 'Am': ['A', 'C', 'E'],\n",
       " 'A#m': ['A#', 'C#', 'F'],\n",
       " 'Bm': ['B', 'D', 'F#']}"
      ]
     },
     "execution_count": 4,
     "metadata": {},
     "output_type": "execute_result"
    }
   ],
   "source": [
    "chord_notes_minor = { 'Cm' : ['C', 'D#', 'G']}\n",
    "for i in range(1, len(octave_notes)):\n",
    "    x = octave_notes[i]\n",
    "    l = []\n",
    "    for j in chord_notes_minor['Cm']:\n",
    "        temp = octave_notes.index(j)\n",
    "        temp2 = (i + temp)%(len(octave_notes))\n",
    "        new = octave_notes[temp2]\n",
    "        l.append(new)\n",
    "    chord_notes_minor[octave_notes[i] + 'm'] = l\n",
    "    \n",
    "chord_notes_minor"
   ]
  },
  {
   "cell_type": "markdown",
   "id": "25aa22f9",
   "metadata": {},
   "source": [
    "### Find chords from notes"
   ]
  },
  {
   "cell_type": "code",
   "execution_count": 5,
   "id": "89900c55",
   "metadata": {},
   "outputs": [],
   "source": [
    "def remove_octave(notes):\n",
    "    for i in range(len(notes)):\n",
    "        notes[i] = notes[i][:-1]\n",
    "    return notes"
   ]
  },
  {
   "cell_type": "code",
   "execution_count": 6,
   "id": "9c6e6bdf",
   "metadata": {},
   "outputs": [
    {
     "name": "stdout",
     "output_type": "stream",
     "text": [
      "['G', 'G', 'G', 'B', 'A', 'G', 'G', 'G', 'D', 'C', 'B', 'E', 'D', 'C', 'B', 'A', 'B', 'F', 'G', 'G', 'G', 'B', 'A', 'G', 'D', 'C', 'B', 'E', 'D', 'C', 'B', 'A', 'B', 'F', 'G', 'F', 'E', 'F', 'G', 'F', 'B', 'D', 'B', 'D', 'E', 'D', 'A', 'G', 'B', 'D', 'B', 'D', 'E', 'D', 'A', 'G', 'G', 'A', 'C', 'E', 'E', 'G', 'A', 'G', 'A', 'C', 'B', 'D']\n"
     ]
    }
   ],
   "source": [
    "#notex = ['C0', 'C4', 'C#4', 'C#4', 'B4', 'C4', 'C5', 'C5', 'A3', 'F3', 'F3', 'D4', 'D4', 'F2', 'F2', 'F2', 'F2', 'C5', 'F2', 'F2', 'F3', 'F2', 'F2', 'F4', 'F2', 'F2', 'C4', 'F3', 'F2', 'F2', 'G#2', 'G2', 'G#2', 'G2', 'G#2', 'D4', 'G2', 'G2', 'G2', 'G#2', 'G2', 'G#2', 'G2', 'G2', 'G2', 'G2', 'G2', 'G2', 'G#2', 'G2', 'C#4', 'G#2', 'G2', 'G2', 'G2', 'G2', 'G2', 'G#2', 'G2', 'G2', 'G2', 'G2', 'G2', 'G2', 'G#2', 'G2', 'G4', 'G2', 'G2', 'G#2', 'G2', 'G#2', 'G2', 'D#2', 'F3', 'F3', 'G#2', 'F2', 'F2', 'F2', 'F2', 'F2', 'F3', 'F2', 'F2', 'F#3', 'F3', 'F2', 'C#4', 'F2', 'C#4', 'C#4', 'C#4', 'C4', 'F2', 'C#5', 'C5', 'F3', 'C5', 'F2', 'F2', 'F3', 'F3', 'F2', 'A4', 'F2', 'F2', 'F2', 'F3', 'F3', 'F#3', 'F2', 'F3', 'F2', 'F#4', 'F3', 'F2']\n",
    "notex = ['G4', 'G4', 'G4', 'B4', 'A4', 'G4', 'G4', 'G4', 'D5', 'C5', 'B4', 'E4', 'D4', 'C4', 'B4', 'A4', 'B4', 'F#4', 'G4', 'G4', 'G4', 'B4', 'A4', 'G4', 'D5', 'C5', 'B4', 'E5', 'D5', 'C5', 'B4', 'A4', 'B4', 'F#4', 'G4', 'F#4', 'E4', 'F#4', 'G4', 'F#4', 'B4', 'D5', 'B4', 'D5', 'E5', 'D5', 'A4', 'G4', 'B4', 'D5', 'B4', 'D5', 'E5', 'D5', 'A4', 'G4', 'G4', 'A4', 'C5', 'E5', 'E5', 'G4', 'A4', 'G4', 'A4', 'C4', 'B4', 'D4']\n",
    "notex = remove_octave(notex)\n",
    "notes = []\n",
    "for i in notex:\n",
    "    if len(i) == 2:\n",
    "        notes.append(i[0])\n",
    "    else:\n",
    "        notes.append(i[0:2])\n",
    "\n",
    "# print(notes)\n",
    "scale = 'G'"
   ]
  },
  {
   "cell_type": "code",
   "execution_count": 7,
   "id": "41ae46b8",
   "metadata": {},
   "outputs": [],
   "source": [
    "def find_chord(note, scale):\n",
    "    fam = chord_family[scale]\n",
    "    family_notes = []\n",
    "    for i in fam:\n",
    "        if i[-1] == 'm':\n",
    "            family_notes.append(chord_notes_minor[i])\n",
    "        else:\n",
    "            family_notes.append(chord_notes_major[i])\n",
    "    simi = []\n",
    "    posi = []\n",
    "    for i in range(len(fam)):\n",
    "        if note in family_notes[i]:\n",
    "            if note == family_notes[i][0]:\n",
    "                simi.append(101)\n",
    "                posi.append(0)\n",
    "            else:\n",
    "                simi.append(100)\n",
    "                posi.append(family_notes[i].index(note))\n",
    "        else:\n",
    "            simi.append(0)\n",
    "            posi.append(-1)\n",
    "    if max(simi) == 0:\n",
    "        return 'a', -1\n",
    "    x = simi.index(max(simi))\n",
    "    chord = fam[x]\n",
    "    pos = posi[x]\n",
    "    return chord, pos"
   ]
  },
  {
   "cell_type": "code",
   "execution_count": 12,
   "id": "add8e5ee",
   "metadata": {},
   "outputs": [
    {
     "name": "stdout",
     "output_type": "stream",
     "text": [
      "Enter beat type : Classic, Waltz, 6/8 - waltz\n"
     ]
    }
   ],
   "source": [
    "#beat = input('Enter beat type : Classic, Waltz, 6/8 - ').capitalize()\n",
    "\n",
    "def find_chord_prog(notes, scale, beat):  \n",
    "    i = 0\n",
    "    chord_prog = []\n",
    "    pos_prog = []\n",
    "    if beat == 'Waltz':\n",
    "        a = 3\n",
    "    elif beat == 'Classic':\n",
    "        a = 4\n",
    "    elif beat == '6/8':\n",
    "        a = 6\n",
    "    else :\n",
    "        a = 4\n",
    "    while i < len(notes):\n",
    "        note = notes[i]\n",
    "        chord, pos = find_chord(note, scale)\n",
    "        if chord == 'a':\n",
    "            chord_prog.append(chord_prog[-1])\n",
    "            pos_prog.append(pos_prog[-1])\n",
    "        else:\n",
    "            chord_prog.append(chord)\n",
    "            pos_prog.append(pos)\n",
    "        i += a\n",
    "    return chord_prog, pos_prog\n",
    "    \n",
    "#chord_prog, pos_prog = find_chord_prog(notes, scale, beat)"
   ]
  },
  {
   "cell_type": "code",
   "execution_count": 13,
   "id": "7898b6ff",
   "metadata": {},
   "outputs": [
    {
     "name": "stdout",
     "output_type": "stream",
     "text": [
      "['G', 'G', 'G', 'C', 'D', 'D', 'G', 'G', 'D', 'C', 'G', 'G', 'C', 'C', 'G', 'D', 'G', 'D', 'D', 'D', 'C', 'G', 'G']\n",
      "[0, 1, 0, 0, 0, 2, 0, 1, 0, 1, 1, 1, 1, 1, 1, 0, 1, 0, 2, 2, 1, 0, 1]\n"
     ]
    }
   ],
   "source": [
    "# print(chord_prog)\n",
    "# print(pos_prog)"
   ]
  },
  {
   "cell_type": "code",
   "execution_count": 2,
   "id": "fcb24b05",
   "metadata": {},
   "outputs": [],
   "source": [
    "def transpose_chord(prog, scale, new_scale):\n",
    "    octave_notes = ['C', 'C#', 'D', 'D#', 'E', 'F', 'F#', 'G', 'G#', 'A', 'A#', 'B']\n",
    "    diff = (octave_notes.index(new_scale) - octave_notes.index(scale))%12\n",
    "    new_notes = []\n",
    "    for i in prog:\n",
    "        x = (octave_notes.index(i) + diff)%12\n",
    "        new_notes.append(octave_notes[x])\n",
    "    return new_notes"
   ]
  },
  {
   "cell_type": "code",
   "execution_count": null,
   "id": "2b362a6e",
   "metadata": {},
   "outputs": [],
   "source": []
  }
 ],
 "metadata": {
  "kernelspec": {
   "display_name": "Python 3 (ipykernel)",
   "language": "python",
   "name": "python3"
  },
  "language_info": {
   "codemirror_mode": {
    "name": "ipython",
    "version": 3
   },
   "file_extension": ".py",
   "mimetype": "text/x-python",
   "name": "python",
   "nbconvert_exporter": "python",
   "pygments_lexer": "ipython3",
   "version": "3.9.12"
  }
 },
 "nbformat": 4,
 "nbformat_minor": 5
}
