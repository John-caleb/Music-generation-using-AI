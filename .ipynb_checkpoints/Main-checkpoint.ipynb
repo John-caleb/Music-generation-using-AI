{
 "cells": [
  {
   "cell_type": "markdown",
   "id": "af180439",
   "metadata": {},
   "source": [
    "### Importing modules and python scripts"
   ]
  },
  {
   "cell_type": "code",
   "execution_count": 1,
   "id": "8a27fa6b",
   "metadata": {},
   "outputs": [],
   "source": [
    "import wave\n",
    "import pandas as pd\n",
    "import ast\n",
    "import random\n",
    "import librosa"
   ]
  },
  {
   "cell_type": "code",
   "execution_count": 2,
   "id": "1e5c994f",
   "metadata": {},
   "outputs": [
    {
     "name": "stderr",
     "output_type": "stream",
     "text": [
      "WARNING:root:python-rtmidi was not found; streaming midi input / output will not be available.\n",
      "WARNING:root:pynput was not found; mouse and keyboard input will not be available.\n"
     ]
    }
   ],
   "source": [
    "from ipynb.fs.full.P1_Note_detection import note_detection\n",
    "from ipynb.fs.full.P2_find_chords import remove_octave, find_chord_prog, transpose_chord\n",
    "from ipynb.fs.full.P3_music_generation import music_gen, generate_op, randomize\n",
    "from ipynb.fs.full.P4_music_output import play_piano, marked_output\n",
    "from ipynb.fs.full.Scale_identification_and_transposing import identify_scale, transpose\n",
    "from ipynb.fs.full.Tempo_identification import find_tempo, find_onset"
   ]
  },
  {
   "cell_type": "markdown",
   "id": "3e56dbbd",
   "metadata": {},
   "source": [
    "### Inputing audio and beat type"
   ]
  },
  {
   "cell_type": "code",
   "execution_count": 3,
   "id": "25b06596",
   "metadata": {},
   "outputs": [],
   "source": [
    "inp_audio = wave.open(\"hdb.wav\", 'r')\n",
    "inp_audio_lib = librosa.load(\"hdb.wav\")\n",
    "song_freq, song_notes = note_detection(inp_audio)"
   ]
  },
  {
   "cell_type": "code",
   "execution_count": 4,
   "id": "3edeb670",
   "metadata": {},
   "outputs": [
    {
     "name": "stdout",
     "output_type": "stream",
     "text": [
      "Enter beat type : Classic, Waltz, 6/8 - classic\n"
     ]
    }
   ],
   "source": [
    "beat_type = input('Enter beat type : Classic, Waltz, 6/8 - ').capitalize()"
   ]
  },
  {
   "cell_type": "markdown",
   "id": "f37e2d3d",
   "metadata": {},
   "source": [
    "### Identifying scale and generating chord progression in C scale"
   ]
  },
  {
   "cell_type": "code",
   "execution_count": 5,
   "id": "998d0e75",
   "metadata": {},
   "outputs": [
    {
     "name": "stdout",
     "output_type": "stream",
     "text": [
      "[45, 10, 45, 26, 24, 35, 15, 50, 18, 32, 31, 19]\n"
     ]
    }
   ],
   "source": [
    "song_notes_stanza = ['G4', 'G4', 'G4', 'B4', 'A4', 'G4', 'G4', 'G4', 'D5', 'C5', 'B4', 'E4', 'D4', 'C4', 'B4', 'A4', 'B4', 'F#4', 'G4', 'G4', 'G4', 'B4', 'A4', 'G4', 'D5', 'C5', 'B4', 'E5', 'D5', 'C5', 'B4', 'A4', 'B4', 'F#4', 'G4', 'F#4', 'E4', 'F#4', 'G4', 'F#4', 'B4', 'D5', 'B4', 'D5', 'E5', 'D5', 'A4', 'G4', 'C4', 'D4']\n",
    "song_notes_chorus = ['G4', 'A4', 'A4', 'B4', 'G4', 'F#4', 'B4', 'G4', 'C5', 'D5', 'B4', 'G4', 'D4', 'E4', 'B4', 'A4', 'B4', 'E4', 'A4', 'G4', 'A4', 'B4', 'G4', 'G4', 'E5', 'C5', 'A4', 'D5', 'C5', 'C5', 'B4', 'G4', 'A4', 'F#4', 'A4', 'F#4', 'E4', 'E5', 'D5', 'A4', 'B4', 'G4', 'A4', 'E4', 'G4']\n",
    "song_notes_stanza = remove_octave(song_notes_stanza)\n",
    "song_notes_chorus = remove_octave(song_notes_chorus)\n",
    "scale = identify_scale(song_notes_stanza)"
   ]
  },
  {
   "cell_type": "code",
   "execution_count": 6,
   "id": "b8868801",
   "metadata": {},
   "outputs": [],
   "source": [
    "chord_prog_stanza, pos_prog_stanza = find_chord_prog(song_notes_stanza, scale, beat_type)\n",
    "chord_prog_stanza = transpose_chord(chord_prog_stanza, scale, 'C')\n",
    "\n",
    "chord_prog_chorus, pos_prog_chorus = find_chord_prog(song_notes_chorus, scale, beat_type)\n",
    "chord_prog_chorus = transpose_chord(chord_prog_chorus, scale, 'C')"
   ]
  },
  {
   "cell_type": "code",
   "execution_count": 7,
   "id": "6c0ef654",
   "metadata": {},
   "outputs": [
    {
     "name": "stdout",
     "output_type": "stream",
     "text": [
      "Transposed chord progression :  ['C', 'G', 'G', 'G', 'C', 'C', 'G', 'G', 'C', 'F', 'C', 'F', 'F']\n",
      "Transposed chord progression :  ['C', 'C', 'F', 'G', 'C', 'G', 'F', 'F', 'G', 'F', 'C', 'C']\n"
     ]
    }
   ],
   "source": [
    "print(f\"Transposed chord progression :  {chord_prog_stanza}\")\n",
    "print(f\"Transposed chord progression :  {chord_prog_chorus}\")"
   ]
  },
  {
   "cell_type": "markdown",
   "id": "a0ae9828",
   "metadata": {},
   "source": [
    "### Generating the interlude and playing output "
   ]
  },
  {
   "cell_type": "code",
   "execution_count": 8,
   "id": "9548db16",
   "metadata": {},
   "outputs": [],
   "source": [
    "df = pd.read_csv('data.csv')\n",
    "score, interlude_chords, bestmatch = music_gen(df, beat_type, chord_prog_stanza, chord_prog_chorus)\n",
    "interlude_chords = randomize(interlude_chords, len(interlude_chords)//4, ['C', 'F', 'G'])"
   ]
  },
  {
   "cell_type": "code",
   "execution_count": 9,
   "id": "2d16349e",
   "metadata": {},
   "outputs": [],
   "source": [
    "seq = [0, 1, 2, 0, 1, 0, 0, 1]\n",
    "seq_new = randomize(seq, 3, [0,1,2])\n",
    "interlude = generate_op(seq_new, interlude_chords, beat_type)\n",
    "interlude = randomize(interlude, len(interlude)//4, ['C', 'D', 'E', 'F', 'G', 'A', 'B'])"
   ]
  },
  {
   "cell_type": "code",
   "execution_count": 10,
   "id": "4cca8f7d",
   "metadata": {},
   "outputs": [],
   "source": [
    "tempo, beat_times = find_tempo(inp_audio_lib)\n",
    "onset = find_onset(inp_audio_lib)"
   ]
  },
  {
   "cell_type": "code",
   "execution_count": 33,
   "id": "cf0a22aa",
   "metadata": {},
   "outputs": [
    {
     "name": "stdout",
     "output_type": "stream",
     "text": [
      "\n",
      "Enter output instrument choice :\n",
      "1 - Piano\n",
      "2 - Strings \n",
      "3 - Guitar\n",
      "4 - Trumpet\n",
      "5 - Space Pad\n",
      "6 - Voice \n",
      "2\n",
      "Using preset Synth Str 2 for Synth Strings\n"
     ]
    }
   ],
   "source": [
    "inst = int(input(\"\"\"\n",
    "Enter output instrument choice :\n",
    "1 - Piano\n",
    "2 - Strings \n",
    "3 - Guitar\n",
    "4 - Trumpet\n",
    "5 - Space Pad\n",
    "6 - Voice \n",
    "\"\"\"))\n",
    "\n",
    "instl = ['Bright Piano', 'Synth Strings', 'Fingered Bass', 'Clarinet', 'Halo Pad', 'Voice']\n",
    "if inst > 6 or inst < 1:\n",
    "    inst = 1\n",
    "    \n",
    "marked_interlude = marked_output(interlude)\n",
    "play_piano(marked_interlude, tempo, instl[inst-1])"
   ]
  },
  {
   "cell_type": "code",
   "execution_count": 34,
   "id": "18a37d53",
   "metadata": {},
   "outputs": [
    {
     "name": "stdout",
     "output_type": "stream",
     "text": [
      "Output interlude notes : ['C5', 'G4', 'A4', 'C5', 'A4', 'A4', 'G4', 'F4', 'G4', 'F4', 'B4', 'A4', 'B4', 'E5', 'F5', 'G5', 'F5', 'E5', 'A5', 'E5', 'A5', 'G5', 'F5', 'G5', 'B5', 'C6', 'D6', 'C6', 'C6']\n",
      "Output interlude chords : ['C', 'F', 'C', 'G', 'C', 'F', 'G', 'C']\n",
      "Tempo : 80.75\n",
      "Beat times : [ 0.11609977  0.85913832  1.62539683  2.36843537  3.13469388  3.87773243\n",
      "  4.62077098  5.36380952  6.13006803  6.87310658  7.61614512  8.38240363\n",
      "  9.12544218  9.86848073 10.61151927 11.37777778]\n",
      "Onset : [ 37  53  69 102 134 166 231 247 263 296 328 360 424 441 457 489 521 538\n",
      " 554]\n"
     ]
    }
   ],
   "source": [
    "print(f\"Output interlude notes : {marked_interlude}\")\n",
    "print(f\"Output interlude chords : {interlude_chords}\")\n",
    "print(f\"Tempo : {tempo}\")\n",
    "print(f\"Beat times : {beat_times}\")\n",
    "print(f\"Onset : {onset}\")"
   ]
  },
  {
   "cell_type": "code",
   "execution_count": 35,
   "id": "9ae7de8f",
   "metadata": {},
   "outputs": [
    {
     "name": "stdout",
     "output_type": "stream",
     "text": [
      "Do you want to transpose your output to another scale (yes/no)? yes\n",
      "Enter new scale A\n",
      "[25, 14, 11, 19, 6, 24, 5, 21, 17, 8, 22, 3]\n",
      "New output interlude notes : ['A5', 'E5', 'F#5', 'A5', 'F#5', 'F#5', 'E5', 'D5', 'E5', 'D5', 'G#5', 'F#5', 'G#5', 'C#6', 'D6', 'E6', 'D6', 'C#6', 'F#6', 'C#6', 'F#6', 'E6', 'D6', 'E6', 'G#6', 'A6', 'B6', 'A6', 'A6']\n",
      "New output interlude chords : ['A', 'D', 'A', 'E', 'A', 'D', 'E', 'A']\n",
      "Using preset Synth Str 2 for Synth Strings\n"
     ]
    }
   ],
   "source": [
    "choice = input(\"Do you want to transpose your output to another scale (yes/no)? \").lower()\n",
    "if choice == 'yes':\n",
    "    scale_new = input(\"Enter new scale \").upper()\n",
    "    new_interlude = transpose(marked_interlude, scale_new)\n",
    "    new_interlude_chords = transpose_chord(interlude_chords, 'C', scale_new)\n",
    "    print(f\"New output interlude notes : {new_interlude}\")\n",
    "    print(f\"New output interlude chords : {new_interlude_chords}\")\n",
    "    play_piano(new_interlude, tempo, instl[inst-1])"
   ]
  },
  {
   "cell_type": "code",
   "execution_count": null,
   "id": "a819073b",
   "metadata": {},
   "outputs": [],
   "source": []
  }
 ],
 "metadata": {
  "kernelspec": {
   "display_name": "Python 3 (ipykernel)",
   "language": "python",
   "name": "python3"
  },
  "language_info": {
   "codemirror_mode": {
    "name": "ipython",
    "version": 3
   },
   "file_extension": ".py",
   "mimetype": "text/x-python",
   "name": "python",
   "nbconvert_exporter": "python",
   "pygments_lexer": "ipython3",
   "version": "3.9.12"
  }
 },
 "nbformat": 4,
 "nbformat_minor": 5
}
