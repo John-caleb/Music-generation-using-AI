{
 "cells": [
  {
   "cell_type": "code",
   "execution_count": 1,
   "id": "42e325bf",
   "metadata": {},
   "outputs": [],
   "source": [
    "#pip install librosa\n",
    "import librosa"
   ]
  },
  {
   "cell_type": "code",
   "execution_count": 12,
   "id": "3f41bb1d",
   "metadata": {},
   "outputs": [],
   "source": [
    "def find_tempo(audio_file):\n",
    "    y, sr = audio_file\n",
    "    tempo, beat_frames = librosa.beat.beat_track(y=y, sr=sr)\n",
    "    return round(tempo, 2), librosa.frames_to_time(beat_frames, sr=sr)"
   ]
  },
  {
   "cell_type": "code",
   "execution_count": 13,
   "id": "ec3e0445",
   "metadata": {},
   "outputs": [],
   "source": [
    "def find_onset(audio_file):\n",
    "    y, sr = audio_file\n",
    "    onset = librosa.onset.onset_detect(y=y, sr=sr)\n",
    "    return onset"
   ]
  },
  {
   "cell_type": "code",
   "execution_count": 16,
   "id": "69c5ef3a",
   "metadata": {},
   "outputs": [
    {
     "name": "stdout",
     "output_type": "stream",
     "text": [
      "Estimated tempo: 80.75 BPM\n",
      "Beat times : [ 0.11609977  0.85913832  1.62539683  2.36843537  3.13469388  3.87773243\n",
      "  4.62077098  5.36380952  6.13006803  6.87310658  7.61614512  8.38240363\n",
      "  9.12544218  9.86848073 10.61151927 11.37777778]\n"
     ]
    }
   ],
   "source": [
    "#importing the audio\n",
    "audio_file = librosa.load('hdb.wav')\n",
    "#finding the estimated tempo based on note movement\n",
    "tempo, beat_times = find_tempo(audio_file)\n",
    "# print(f'Estimated tempo: {tempo} BPM')\n",
    "# print(f'Beat times : {beat_times}')"
   ]
  },
  {
   "cell_type": "code",
   "execution_count": 6,
   "id": "5eddc95a",
   "metadata": {},
   "outputs": [
    {
     "name": "stdout",
     "output_type": "stream",
     "text": [
      "[ 37  53  69 102 134 166 231 247 263 296 328 360 424 441 457 489 521 538\n",
      " 554]\n"
     ]
    }
   ],
   "source": [
    "# print(find_onset(audio_file))"
   ]
  },
  {
   "cell_type": "code",
   "execution_count": null,
   "id": "cf298f62",
   "metadata": {},
   "outputs": [],
   "source": []
  }
 ],
 "metadata": {
  "kernelspec": {
   "display_name": "Python 3 (ipykernel)",
   "language": "python",
   "name": "python3"
  },
  "language_info": {
   "codemirror_mode": {
    "name": "ipython",
    "version": 3
   },
   "file_extension": ".py",
   "mimetype": "text/x-python",
   "name": "python",
   "nbconvert_exporter": "python",
   "pygments_lexer": "ipython3",
   "version": "3.9.12"
  }
 },
 "nbformat": 4,
 "nbformat_minor": 5
}
