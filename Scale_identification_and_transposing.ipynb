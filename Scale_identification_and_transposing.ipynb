{
 "cells": [
  {
   "cell_type": "markdown",
   "id": "d5f04ddb",
   "metadata": {},
   "source": [
    "## Piano notes & Scales"
   ]
  },
  {
   "cell_type": "code",
   "execution_count": 3,
   "id": "6badfe55",
   "metadata": {},
   "outputs": [],
   "source": [
    "octave_notes = ['C', 'C#', 'D', 'D#', 'E', 'F', 'F#', 'G', 'G#', 'A', 'A#', 'B']\n",
    "\n",
    "def writenotes():\n",
    "    piano = []\n",
    "    #making a list of all notes for 8 octaves\n",
    "    for i in range(1,9):\n",
    "        for j in range(12):\n",
    "            key = octave_notes[j] + str(i)\n",
    "            piano.append(key)    \n",
    "    piano.append('C9')\n",
    "    return piano\n",
    "\n",
    "def writescales():\n",
    "    scales = {}\n",
    "    scales['C'] = ['C', 'D', 'E', 'F', 'G', 'A', 'B', 'C']\n",
    "    #storing the notes for each scale\n",
    "    for i in range(1,12):\n",
    "        scale_key = octave_notes[i]\n",
    "        scale_notes = []\n",
    "        for j in range(len(scales['C'])):\n",
    "            x = (octave_notes.index(scales['C'][j]) + i)%12\n",
    "            scale_notes.append(octave_notes[x])\n",
    "        scales[scale_key] = scale_notes\n",
    "    return scales\n",
    "        \n",
    "def divide(song):\n",
    "    #removing the octave number as it is unnecessary for scale identification\n",
    "    songnotes = []\n",
    "    i = 0\n",
    "    temp = ''\n",
    "    while i < len(song):\n",
    "        if song[i].isdigit() or song[i] == ' ':\n",
    "            if len(temp) > 0:\n",
    "                songnotes.append(temp)\n",
    "                temp = ''\n",
    "        else:\n",
    "            temp += song[i]\n",
    "        i += 1\n",
    "    return songnotes\n",
    "\n",
    "#determining the scale by matching with the progression\n",
    "def similarity(scale, note):\n",
    "    score = 0\n",
    "    scales = writescales()\n",
    "    for i in note:\n",
    "        if i in scales[scale]:\n",
    "            score += 1\n",
    "    return score"
   ]
  },
  {
   "cell_type": "code",
   "execution_count": 7,
   "id": "e835aaaa",
   "metadata": {},
   "outputs": [
    {
     "name": "stdout",
     "output_type": "stream",
     "text": [
      "['C1', 'C#1', 'D1', 'D#1', 'E1', 'F1', 'F#1', 'G1', 'G#1', 'A1', 'A#1', 'B1', 'C2', 'C#2', 'D2', 'D#2', 'E2', 'F2', 'F#2', 'G2', 'G#2', 'A2', 'A#2', 'B2', 'C3', 'C#3', 'D3', 'D#3', 'E3', 'F3', 'F#3', 'G3', 'G#3', 'A3', 'A#3', 'B3', 'C4', 'C#4', 'D4', 'D#4', 'E4', 'F4', 'F#4', 'G4', 'G#4', 'A4', 'A#4', 'B4', 'C5', 'C#5', 'D5', 'D#5', 'E5', 'F5', 'F#5', 'G5', 'G#5', 'A5', 'A#5', 'B5', 'C6', 'C#6', 'D6', 'D#6', 'E6', 'F6', 'F#6', 'G6', 'G#6', 'A6', 'A#6', 'B6', 'C7', 'C#7', 'D7', 'D#7', 'E7', 'F7', 'F#7', 'G7', 'G#7', 'A7', 'A#7', 'B7', 'C8', 'C#8', 'D8', 'D#8', 'E8', 'F8', 'F#8', 'G8', 'G#8', 'A8', 'A#8', 'B8', 'C9']\n"
     ]
    }
   ],
   "source": [
    "#piano"
   ]
  },
  {
   "cell_type": "code",
   "execution_count": 12,
   "id": "b09d622f",
   "metadata": {},
   "outputs": [
    {
     "data": {
      "text/plain": [
       "{'C': ['C', 'D', 'E', 'F', 'G', 'A', 'B', 'C'],\n",
       " 'C#': ['C#', 'D#', 'F', 'F#', 'G#', 'A#', 'C', 'C#'],\n",
       " 'D': ['D', 'E', 'F#', 'G', 'A', 'B', 'C#', 'D'],\n",
       " 'D#': ['D#', 'F', 'G', 'G#', 'A#', 'C', 'D', 'D#'],\n",
       " 'E': ['E', 'F#', 'G#', 'A', 'B', 'C#', 'D#', 'E'],\n",
       " 'F': ['F', 'G', 'A', 'A#', 'C', 'D', 'E', 'F'],\n",
       " 'F#': ['F#', 'G#', 'A#', 'B', 'C#', 'D#', 'F', 'F#'],\n",
       " 'G': ['G', 'A', 'B', 'C', 'D', 'E', 'F#', 'G'],\n",
       " 'G#': ['G#', 'A#', 'C', 'C#', 'D#', 'F', 'G', 'G#'],\n",
       " 'A': ['A', 'B', 'C#', 'D', 'E', 'F#', 'G#', 'A'],\n",
       " 'A#': ['A#', 'C', 'D', 'D#', 'F', 'G', 'A', 'A#'],\n",
       " 'B': ['B', 'C#', 'D#', 'E', 'F#', 'G#', 'A#', 'B']}"
      ]
     },
     "execution_count": 12,
     "metadata": {},
     "output_type": "execute_result"
    }
   ],
   "source": [
    "#scales"
   ]
  },
  {
   "cell_type": "code",
   "execution_count": 39,
   "id": "94d2cb08",
   "metadata": {},
   "outputs": [
    {
     "name": "stdout",
     "output_type": "stream",
     "text": [
      "['C', 'C', 'D', 'C', 'F', 'E', 'C', 'C', 'D', 'C', 'G', 'F', 'C', 'C', 'C', 'B', 'F', 'A', 'G', 'A', 'A', 'G', 'F', 'E', 'C']\n"
     ]
    }
   ],
   "source": [
    "#songnotes"
   ]
  },
  {
   "cell_type": "markdown",
   "id": "74cf8264",
   "metadata": {},
   "source": [
    "## Scale Identification"
   ]
  },
  {
   "cell_type": "code",
   "execution_count": 9,
   "id": "cefad054",
   "metadata": {},
   "outputs": [
    {
     "name": "stdout",
     "output_type": "stream",
     "text": [
      "[14, 6, 20, 7, 13, 12, 8, 18, 5, 17, 10, 10]\n",
      "D\n"
     ]
    }
   ],
   "source": [
    "def identify_scale_orig(song):\n",
    "    notes = writenotes()\n",
    "    scales = writescales()\n",
    "    song_notes = divide(song)\n",
    "    sim = []\n",
    "    for i in octave_notes:\n",
    "        sim.append(similarity(i, song_notes))\n",
    "    scale = octave_notes[sim.index(max(sim))]\n",
    "    print(sim)\n",
    "    return scale\n",
    "    \n",
    "song = 'C3 C3 D3 C3 F3 E3 C3 C3 D3 C3 G3 F3 C3 C3 C4 B3 F3 A3 G3 A3 A3 G3 F3 E3 C3'\n",
    "interlude = 'G5 G#5 C5 G5 G#5 G5 G#5 C5 G#5 G5 A#4 F5 G5 A#4 F5 G5 A#4 D#5 C#5'\n",
    "abc = 'F#4 A4 G4 D4 E4 C#4 A4 D4 F#4 G4 B4 C#5 D5 F#4 A4 B4 G4 F#4 E4 D4'\n",
    "#print(identify_scale_orig(abc))"
   ]
  },
  {
   "cell_type": "code",
   "execution_count": 10,
   "id": "1bfc634e",
   "metadata": {},
   "outputs": [],
   "source": [
    "def identify_scale(song_notes):\n",
    "    notes = writenotes()\n",
    "    scales = writescales()\n",
    "    sim = []\n",
    "    for i in octave_notes:\n",
    "        sim.append(similarity(i, song_notes))\n",
    "    scale = octave_notes[sim.index(max(sim))]\n",
    "    print(sim)\n",
    "    return scale"
   ]
  },
  {
   "cell_type": "markdown",
   "id": "aa76feb8",
   "metadata": {},
   "source": [
    "## Scale Transposing "
   ]
  },
  {
   "cell_type": "code",
   "execution_count": 8,
   "id": "5751a232",
   "metadata": {},
   "outputs": [
    {
     "name": "stdout",
     "output_type": "stream",
     "text": [
      "Enter new scale D\n",
      "[25, 14, 11, 19, 6, 24, 5, 21, 17, 8, 22, 3]\n",
      "['D3', 'D3', 'E3', 'D3', 'G3', 'F#3', 'D3', 'D3', 'E3', 'D3', 'A3', 'G3', 'D3', 'D3', 'D4', 'C#4', 'G3', 'B3', 'A3', 'B3', 'B3', 'A3', 'G3', 'F#3', 'D3']\n"
     ]
    }
   ],
   "source": [
    "def transpose_orig(song):\n",
    "    notes = song.split(' ')\n",
    "    piano = writenotes()\n",
    "    new_scale = input(\"Enter new scale \").upper()\n",
    "    if new_scale not in octave_notes:\n",
    "        return \"Wrong scale\"\n",
    "    scale = identify_scale(song)\n",
    "    diff = octave_notes.index(new_scale) - octave_notes.index(scale)\n",
    "    if diff < 0:\n",
    "        diff += 12\n",
    "    new_notes = []\n",
    "    for i in notes:\n",
    "        x = piano.index(i) + diff\n",
    "        new_notes.append(piano[x])\n",
    "    return new_notes\n",
    "    \n",
    "song = 'C3 C3 D3 C3 F3 E3 C3 C3 D3 C3 G3 F3 C3 C3 C4 B3 F3 A3 G3 A3 A3 G3 F3 E3 C3'\n",
    "#print(transpose_orig(song))"
   ]
  },
  {
   "cell_type": "code",
   "execution_count": 1,
   "id": "6fd01e8a",
   "metadata": {},
   "outputs": [],
   "source": [
    "def transpose(notes, new_scale):\n",
    "    piano = writenotes()\n",
    "    if new_scale not in octave_notes:\n",
    "        return \"Wrong scale\"\n",
    "    scale = identify_scale(song)\n",
    "    diff = octave_notes.index(new_scale) - octave_notes.index(scale)\n",
    "    if diff < 0:\n",
    "        diff += 12\n",
    "    new_notes = []\n",
    "    for i in notes:\n",
    "        x = piano.index(i) + diff\n",
    "        new_notes.append(piano[x])\n",
    "    return new_notes"
   ]
  },
  {
   "cell_type": "code",
   "execution_count": null,
   "id": "a4d1af66",
   "metadata": {},
   "outputs": [],
   "source": []
  }
 ],
 "metadata": {
  "kernelspec": {
   "display_name": "Python 3 (ipykernel)",
   "language": "python",
   "name": "python3"
  },
  "language_info": {
   "codemirror_mode": {
    "name": "ipython",
    "version": 3
   },
   "file_extension": ".py",
   "mimetype": "text/x-python",
   "name": "python",
   "nbconvert_exporter": "python",
   "pygments_lexer": "ipython3",
   "version": "3.9.12"
  }
 },
 "nbformat": 4,
 "nbformat_minor": 5
}
